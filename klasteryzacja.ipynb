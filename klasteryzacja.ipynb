{
 "cells": [
  {
   "cell_type": "code",
   "execution_count": 1,
   "metadata": {
    "collapsed": true
   },
   "outputs": [],
   "source": [
    "import numpy as np\n",
    "# Wczytanie akcji\n",
    "atak_x_64_64_kz = np.load('atak z użyciem przedmiotu_numpy_datasets/x_64_64_kz_data.npy')\n",
    "atak_x_64_64_mp4 = np.load('atak z użyciem przedmiotu_numpy_datasets/x_64_64_mp4_data.npy')\n",
    "\n",
    "atak_x_32_32_kz = np.load('atak z użyciem przedmiotu_numpy_datasets/x_32_32_kz_data.npy')\n",
    "atak_x_32_32_mp4 = np.load('atak z użyciem przedmiotu_numpy_datasets/x_32_32_mp4_data.npy')"
   ]
  },
  {
   "cell_type": "code",
   "execution_count": 2,
   "outputs": [],
   "source": [
    "popchniecie_x_64_64_kz = np.load('popchnięcie_numpy_datasets/x_64_64_kz_data.npy')\n",
    "popchniecie_x_64_64_mp4= np.load('popchnięcie_numpy_datasets/x_64_64_mp4_data.npy')\n",
    "\n",
    "popchniecie_x_32_32_kz = np.load('popchnięcie_numpy_datasets/x_32_32_kz_data.npy')\n",
    "popchniecie_x_32_32_mp4= np.load('popchnięcie_numpy_datasets/x_32_32_mp4_data.npy')"
   ],
   "metadata": {
    "collapsed": false,
    "pycharm": {
     "name": "#%%\n"
    }
   }
  },
  {
   "cell_type": "code",
   "execution_count": 3,
   "outputs": [],
   "source": [
    "przekazanie_x_64_64_kz = np.load('przekazanie_numpy_datasets/x_64_64_kz_data.npy')\n",
    "przekazanie_x_64_64_mp4= np.load('przekazanie_numpy_datasets/x_64_64_mp4_data.npy')\n",
    "\n",
    "przekazanie_x_32_32_kz = np.load('przekazanie_numpy_datasets/x_32_32_kz_data.npy')\n",
    "przekazanie_x_32_32_mp4= np.load('przekazanie_numpy_datasets/x_32_32_mp4_data.npy')"
   ],
   "metadata": {
    "collapsed": false,
    "pycharm": {
     "name": "#%%\n"
    }
   }
  },
  {
   "cell_type": "code",
   "execution_count": 4,
   "outputs": [],
   "source": [
    "przytulenie_x_64_64_kz = np.load('przytulenie_numpy_datasets/x_64_64_kz_data.npy')\n",
    "przytulenie_x_64_64_mp4 =np.load('przytulenie_numpy_datasets/x_64_64_mp4_data.npy')\n",
    "\n",
    "przytulenie_x_32_32_kz = np.load('przytulenie_numpy_datasets/x_32_32_kz_data.npy')\n",
    "przytulenie_x_32_32_mp4= np.load('przytulenie_numpy_datasets/x_32_32_mp4_data.npy')"
   ],
   "metadata": {
    "collapsed": false,
    "pycharm": {
     "name": "#%%\n"
    }
   }
  },
  {
   "cell_type": "code",
   "execution_count": 5,
   "outputs": [],
   "source": [
    "rozmowa_x_64_64_kz = np.load('rozmowa_numpy_datasets/x_64_64_kz_data.npy')\n",
    "rozmowa_x_64_64_mp4 =np.load('rozmowa_numpy_datasets/x_64_64_mp4_data.npy')\n",
    "\n",
    "rozmowa_x_32_32_kz = np.load('rozmowa_numpy_datasets/x_32_32_kz_data.npy')\n",
    "rozmowa_x_32_32_mp4 =np.load('rozmowa_numpy_datasets/x_32_32_mp4_data.npy')"
   ],
   "metadata": {
    "collapsed": false,
    "pycharm": {
     "name": "#%%\n"
    }
   }
  },
  {
   "cell_type": "code",
   "execution_count": 6,
   "outputs": [],
   "source": [
    "sprzeczka_x_64_64_kz = np.load('sprzeczka_numpy_datasets/x_64_64_kz_data.npy')\n",
    "sprzeczka_x_64_64_mp4= np.load('sprzeczka_numpy_datasets/x_64_64_mp4_data.npy')\n",
    "\n",
    "sprzeczka_x_32_32_kz = np.load('sprzeczka_numpy_datasets/x_32_32_kz_data.npy')\n",
    "sprzeczka_x_32_32_mp4= np.load('sprzeczka_numpy_datasets/x_32_32_mp4_data.npy')"
   ],
   "metadata": {
    "collapsed": false,
    "pycharm": {
     "name": "#%%\n"
    }
   }
  },
  {
   "cell_type": "code",
   "execution_count": 7,
   "outputs": [],
   "source": [
    "uderzenie_x_64_64_kz = np.load('uderzenie_numpy_datasets/x_64_64_kz_data.npy')\n",
    "uderzenie_x_64_64_mp4= np.load('uderzenie_numpy_datasets/x_64_64_mp4_data.npy')\n",
    "\n",
    "uderzenie_x_32_32_kz = np.load('uderzenie_numpy_datasets/x_32_32_kz_data.npy')\n",
    "uderzenie_x_32_32_mp4= np.load('uderzenie_numpy_datasets/x_32_32_mp4_data.npy')"
   ],
   "metadata": {
    "collapsed": false,
    "pycharm": {
     "name": "#%%\n"
    }
   }
  },
  {
   "cell_type": "code",
   "execution_count": 8,
   "outputs": [],
   "source": [
    "zamachniecie_x_64_64_kz = np.load('zamachnięcie_numpy_datasets/x_64_64_kz_data.npy')\n",
    "zamachniecie_x_64_64_mp4= np.load('zamachnięcie_numpy_datasets/x_64_64_mp4_data.npy')\n",
    "\n",
    "zamachniecie_x_32_32_kz = np.load('zamachnięcie_numpy_datasets/x_32_32_kz_data.npy')\n",
    "zamachniecie_x_32_32_mp4= np.load('zamachnięcie_numpy_datasets/x_32_32_mp4_data.npy')"
   ],
   "metadata": {
    "collapsed": false,
    "pycharm": {
     "name": "#%%\n"
    }
   }
  },
  {
   "cell_type": "markdown",
   "source": [
    "Tworzenie zbiorów"
   ],
   "metadata": {
    "collapsed": false,
    "pycharm": {
     "name": "#%% md\n"
    }
   }
  },
  {
   "cell_type": "code",
   "execution_count": 9,
   "outputs": [],
   "source": [
    "x_64_64_kz = np.vstack((atak_x_64_64_kz, popchniecie_x_64_64_kz, przekazanie_x_64_64_kz, przytulenie_x_64_64_kz, rozmowa_x_64_64_kz, sprzeczka_x_64_64_kz, uderzenie_x_64_64_kz, zamachniecie_x_64_64_kz))"
   ],
   "metadata": {
    "collapsed": false,
    "pycharm": {
     "name": "#%%\n"
    }
   }
  },
  {
   "cell_type": "code",
   "execution_count": 10,
   "outputs": [],
   "source": [
    "x_32_32_kz = np.vstack((atak_x_32_32_kz, popchniecie_x_32_32_kz, przekazanie_x_32_32_kz, przytulenie_x_32_32_kz, rozmowa_x_32_32_kz, sprzeczka_x_32_32_kz, uderzenie_x_32_32_kz, zamachniecie_x_32_32_kz))"
   ],
   "metadata": {
    "collapsed": false,
    "pycharm": {
     "name": "#%%\n"
    }
   }
  },
  {
   "cell_type": "code",
   "execution_count": 11,
   "outputs": [],
   "source": [
    "x_64_64_mp4= np.vstack((atak_x_64_64_mp4, popchniecie_x_64_64_mp4, przekazanie_x_64_64_mp4, przytulenie_x_64_64_mp4, rozmowa_x_64_64_mp4, sprzeczka_x_64_64_mp4, uderzenie_x_64_64_mp4, zamachniecie_x_64_64_mp4))"
   ],
   "metadata": {
    "collapsed": false,
    "pycharm": {
     "name": "#%%\n"
    }
   }
  },
  {
   "cell_type": "code",
   "execution_count": 12,
   "outputs": [],
   "source": [
    "x_32_32_mp4= np.vstack((atak_x_32_32_mp4, popchniecie_x_32_32_mp4, przekazanie_x_32_32_mp4, przytulenie_x_32_32_mp4, rozmowa_x_32_32_mp4, sprzeczka_x_32_32_mp4, uderzenie_x_32_32_mp4, zamachniecie_x_32_32_mp4))"
   ],
   "metadata": {
    "collapsed": false,
    "pycharm": {
     "name": "#%%\n"
    }
   }
  },
  {
   "cell_type": "markdown",
   "source": [
    "Klasy"
   ],
   "metadata": {
    "collapsed": false,
    "pycharm": {
     "name": "#%% md\n"
    }
   }
  },
  {
   "cell_type": "code",
   "execution_count": 13,
   "outputs": [],
   "source": [
    "y_64_64_kz = np.hstack((np.zeros(len(atak_x_64_64_kz),), np.zeros(len(popchniecie_x_64_64_kz),) + 1, np.zeros(len(przekazanie_x_64_64_kz),) + 2, np.zeros(len(przytulenie_x_64_64_kz),) + 3, np.zeros(len(rozmowa_x_64_64_kz),) + 4, np.zeros(len(sprzeczka_x_64_64_kz),) + 5, np.zeros(len(uderzenie_x_64_64_kz),) + 6, np.zeros(len(zamachniecie_x_64_64_kz),) + 7 ))"
   ],
   "metadata": {
    "collapsed": false,
    "pycharm": {
     "name": "#%%\n"
    }
   }
  },
  {
   "cell_type": "code",
   "execution_count": 14,
   "outputs": [],
   "source": [
    "y_32_32_kz = np.hstack((np.zeros(len(atak_x_32_32_kz),), np.zeros(len(popchniecie_x_32_32_kz),) + 1, np.zeros(len(przekazanie_x_32_32_kz),) + 2, np.zeros(len(przytulenie_x_32_32_kz),) + 3, np.zeros(len(rozmowa_x_32_32_kz),) + 4, np.zeros(len(sprzeczka_x_32_32_kz),) + 5, np.zeros(len(uderzenie_x_32_32_kz),) + 6, np.zeros(len(zamachniecie_x_32_32_kz),) + 7 ))"
   ],
   "metadata": {
    "collapsed": false,
    "pycharm": {
     "name": "#%%\n"
    }
   }
  },
  {
   "cell_type": "code",
   "execution_count": 15,
   "outputs": [],
   "source": [
    "y_64_64_mp4 = np.hstack((np.zeros(len(atak_x_64_64_mp4),), np.zeros(len(popchniecie_x_64_64_mp4),) + 1, np.zeros(len(przekazanie_x_64_64_mp4),) + 2, np.zeros(len(przytulenie_x_64_64_mp4),) + 3, np.zeros(len(rozmowa_x_64_64_mp4),) + 4, np.zeros(len(sprzeczka_x_64_64_mp4),) + 5, np.zeros(len(uderzenie_x_64_64_mp4),) + 6, np.zeros(len(zamachniecie_x_64_64_mp4),) + 7 ))"
   ],
   "metadata": {
    "collapsed": false,
    "pycharm": {
     "name": "#%%\n"
    }
   }
  },
  {
   "cell_type": "code",
   "execution_count": 16,
   "outputs": [],
   "source": [
    "y_32_32_mp4 = np.hstack((np.zeros(len(atak_x_32_32_mp4),), np.zeros(len(popchniecie_x_32_32_mp4),) + 1, np.zeros(len(przekazanie_x_32_32_mp4),) + 2, np.zeros(len(przytulenie_x_32_32_mp4),) + 3, np.zeros(len(rozmowa_x_32_32_mp4),) + 4, np.zeros(len(sprzeczka_x_32_32_mp4),) + 5, np.zeros(len(uderzenie_x_32_32_mp4),) + 6, np.zeros(len(zamachniecie_x_32_32_mp4),) + 7 ))"
   ],
   "metadata": {
    "collapsed": false,
    "pycharm": {
     "name": "#%%\n"
    }
   }
  },
  {
   "cell_type": "markdown",
   "source": [
    "Redukcja wymiarowości"
   ],
   "metadata": {
    "collapsed": false,
    "pycharm": {
     "name": "#%% md\n"
    }
   }
  },
  {
   "cell_type": "code",
   "execution_count": 17,
   "outputs": [],
   "source": [
    "from sklearn.manifold import LocallyLinearEmbedding"
   ],
   "metadata": {
    "collapsed": false,
    "pycharm": {
     "name": "#%%\n"
    }
   }
  },
  {
   "cell_type": "code",
   "execution_count": 18,
   "outputs": [],
   "source": [
    "x_64_64_kz = x_64_64_kz.astype('float64')\n",
    "x_32_32_kz = x_32_32_kz.astype('float64')\n",
    "\n",
    "x_64_64_mp4 = x_64_64_mp4.astype('float64')\n",
    "x_32_32_mp4 = x_32_32_mp4.astype('float64')\n",
    "\n",
    "\n",
    "x_64_64_kz /= 255\n",
    "x_32_32_kz /= 255\n",
    "\n",
    "x_64_64_mp4 /= 255\n",
    "x_32_32_mp4 /= 255"
   ],
   "metadata": {
    "collapsed": false,
    "pycharm": {
     "name": "#%%\n"
    }
   }
  },
  {
   "cell_type": "code",
   "execution_count": 19,
   "outputs": [
    {
     "name": "stdout",
     "output_type": "stream",
     "text": [
      "(3028, 4096)\n",
      "(3028, 1024)\n"
     ]
    }
   ],
   "source": [
    "n_neighbors = 30\n",
    "\n",
    "data_64_kz = x_64_64_kz.copy()\n",
    "data_32_kz = x_32_32_kz.copy()\n",
    "\n",
    "data_64_mp4 = x_64_64_mp4.copy()\n",
    "data_32_mp4 = x_32_32_mp4.copy()\n",
    "\n",
    "datas = []\n",
    "for data in [data_64_kz, data_32_kz]:\n",
    "\n",
    "    if data.ndim == 3:\n",
    "\n",
    "        samples, height, width = data.shape\n",
    "        data = data.reshape(samples, height * width)\n",
    "\n",
    "        print(data.shape)\n",
    "\n",
    "        datas.append(data)\n",
    "    if data.ndim == 4:\n",
    "        samples, height, width, channel = data.shape\n",
    "        data = data.reshape(samples, height * width * channel)\n",
    "        print(data.shape)\n",
    "\n",
    "        datas.append(data)"
   ],
   "metadata": {
    "collapsed": false,
    "pycharm": {
     "name": "#%%\n"
    }
   }
  },
  {
   "cell_type": "code",
   "execution_count": 20,
   "outputs": [
    {
     "name": "stdout",
     "output_type": "stream",
     "text": [
      "(3028, 8)\n",
      "(3028, 8)\n"
     ]
    }
   ],
   "source": [
    "embedding_kz = LocallyLinearEmbedding(n_neighbors=n_neighbors, n_components=8, n_jobs=-1)\n",
    "\n",
    "embedding_mp4 = LocallyLinearEmbedding(n_neighbors=n_neighbors, n_components=480, n_jobs=-1)\n",
    "\n",
    "data_transformed = []\n",
    "for data in datas[:2]:\n",
    "\n",
    "    X_transformed = embedding_kz.fit_transform(data)\n",
    "\n",
    "    print(X_transformed.shape)\n",
    "\n",
    "    data_transformed.append(X_transformed)\n",
    "\n",
    "for data in datas[2:]:\n",
    "\n",
    "    X_transformed = embedding_mp4.fit_transform(data)\n",
    "\n",
    "    print(X_transformed.shape)\n",
    "\n",
    "    data_transformed.append(X_transformed)"
   ],
   "metadata": {
    "collapsed": false,
    "pycharm": {
     "name": "#%%\n"
    }
   }
  },
  {
   "cell_type": "markdown",
   "source": [
    "Klasteryzacja"
   ],
   "metadata": {
    "collapsed": false,
    "pycharm": {
     "name": "#%% md\n"
    }
   }
  },
  {
   "cell_type": "code",
   "execution_count": 21,
   "outputs": [],
   "source": [
    "from sklearn.cluster import SpectralClustering\n",
    "\n",
    "y_preds = []\n",
    "for X_transformed in data_transformed:\n",
    "\n",
    "    cluster = SpectralClustering(n_clusters=8)\n",
    "\n",
    "    y_pred = cluster.fit_predict(X_transformed)\n",
    "\n",
    "    y_preds.append(y_pred)\n"
   ],
   "metadata": {
    "collapsed": false,
    "pycharm": {
     "name": "#%%\n"
    }
   }
  },
  {
   "cell_type": "code",
   "execution_count": 22,
   "outputs": [
    {
     "name": "stdout",
     "output_type": "stream",
     "text": [
      "0.6848530552198858 0.33366104832081195\n",
      "0.6903334542180699 0.29996917607835977\n"
     ]
    }
   ],
   "source": [
    "from sklearn.metrics.cluster import rand_score, silhouette_score\n",
    "\n",
    "\n",
    "print(rand_score(y_64_64_kz, y_preds[0]), silhouette_score(data_transformed[0], labels=y_preds[0]))\n",
    "\n",
    "print(rand_score(y_32_32_kz, y_preds[1]), silhouette_score(data_transformed[1], labels=y_preds[1]))\n",
    "\n",
    "# rand_score(y_64_64_mp4, y_preds[2]), silhouette_score(data_transformed[2], labels=y_preds[2])\n",
    "#\n",
    "# rand_score(y_32_32_mp4, y_preds[3]), silhouette_score(data_transformed[3], labels=y_preds[3])"
   ],
   "metadata": {
    "collapsed": false,
    "pycharm": {
     "name": "#%%\n"
    }
   }
  },
  {
   "cell_type": "code",
   "execution_count": 24,
   "outputs": [
    {
     "name": "stdout",
     "output_type": "stream",
     "text": [
      "0.7643509166074244 0.1357833020458032\n",
      "0.7679726582291739 0.15314429478587263\n"
     ]
    }
   ],
   "source": [
    "from sklearn.mixture import GaussianMixture\n",
    "\n",
    "y_preds_gmm = []\n",
    "for X_transformed in data_transformed:\n",
    "\n",
    "    gmm = GaussianMixture(n_components=8)\n",
    "    y_pred_gmm = gmm.fit_predict(X_transformed)\n",
    "\n",
    "    y_preds_gmm.append(y_pred_gmm)\n",
    "\n",
    "\n",
    "print(rand_score(y_64_64_kz, y_preds_gmm[0]), silhouette_score(data_transformed[0], y_preds_gmm[0]))\n",
    "\n",
    "print(rand_score(y_32_32_kz, y_preds_gmm[1]), silhouette_score(data_transformed[1], y_preds_gmm[1]))"
   ],
   "metadata": {
    "collapsed": false,
    "pycharm": {
     "name": "#%%\n"
    }
   }
  },
  {
   "cell_type": "code",
   "execution_count": 25,
   "outputs": [
    {
     "name": "stderr",
     "output_type": "stream",
     "text": [
      "c:\\users\\damig\\mn\\projekt_alternatywny\\venv\\lib\\site-packages\\sklearn\\cluster\\_kmeans.py:870: FutureWarning: The default value of `n_init` will change from 10 to 'auto' in 1.4. Set the value of `n_init` explicitly to suppress the warning\n",
      "  warnings.warn(\n",
      "c:\\users\\damig\\mn\\projekt_alternatywny\\venv\\lib\\site-packages\\sklearn\\cluster\\_kmeans.py:870: FutureWarning: The default value of `n_init` will change from 10 to 'auto' in 1.4. Set the value of `n_init` explicitly to suppress the warning\n",
      "  warnings.warn(\n"
     ]
    },
    {
     "name": "stdout",
     "output_type": "stream",
     "text": [
      "0.6838351359124114 0.3340831538498989\n",
      "0.7090125462645962 0.2942963824559527\n"
     ]
    }
   ],
   "source": [
    "from sklearn.cluster import KMeans\n",
    "\n",
    "y_preds_km = []\n",
    "for X_transformed in data_transformed:\n",
    "\n",
    "    km = KMeans(n_clusters=8)\n",
    "    y_pred_km = km.fit_predict(X_transformed)\n",
    "\n",
    "    y_preds_km.append(y_pred_km)\n",
    "\n",
    "print(rand_score(y_64_64_kz, y_preds_km[0]), silhouette_score(data_transformed[0], y_preds_km[0]))\n",
    "\n",
    "print(rand_score(y_32_32_kz, y_preds_km[1]), silhouette_score(data_transformed[1], y_preds_km[1]))"
   ],
   "metadata": {
    "collapsed": false,
    "pycharm": {
     "name": "#%%\n"
    }
   }
  }
 ],
 "metadata": {
  "kernelspec": {
   "display_name": "Python 3",
   "language": "python",
   "name": "python3"
  },
  "language_info": {
   "codemirror_mode": {
    "name": "ipython",
    "version": 2
   },
   "file_extension": ".py",
   "mimetype": "text/x-python",
   "name": "python",
   "nbconvert_exporter": "python",
   "pygments_lexer": "ipython2",
   "version": "2.7.6"
  }
 },
 "nbformat": 4,
 "nbformat_minor": 0
}