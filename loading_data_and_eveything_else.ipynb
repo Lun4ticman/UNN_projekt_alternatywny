{
 "cells": [
  {
   "cell_type": "code",
   "execution_count": 1,
   "outputs": [],
   "source": [
    "import random\n",
    "import cv2\n",
    "import matplotlib.pyplot as plt\n",
    "import os\n",
    "import numpy as np\n",
    "from tqdm import tqdm\n",
    "from sklearn.decomposition import PCA\n",
    "from sklearn.manifold import LocallyLinearEmbedding\n",
    "from sklearn.mixture import GaussianMixture\n",
    "from sklearn.cluster import SpectralClustering\n",
    "from sklearn.metrics import silhouette_score\n",
    "from sklearn.metrics import adjusted_rand_score\n",
    "from sklearn.metrics import adjusted_mutual_info_score"
   ],
   "metadata": {
    "collapsed": false,
    "pycharm": {
     "name": "#%%\n"
    }
   }
  },
  {
   "cell_type": "code",
   "execution_count": 2,
   "metadata": {
    "collapsed": true
   },
   "outputs": [],
   "source": [
    "root_dir = 'zbiory'\n",
    "file_names = []\n",
    "arrays = {}\n",
    "classes = [0,1,2,3,4,5,6,7]\n",
    "labels_true = {}\n",
    "i=-1\n",
    "for subdir, dirs, files in os.walk(root_dir):\n",
    "    for file in files:\n",
    "        if file.endswith('.npy'):\n",
    "            file_path = os.path.join(subdir, file)\n",
    "            file_name, _ = os.path.splitext(file)\n",
    "            if file_name not in arrays:\n",
    "                arrays[file_name] = []\n",
    "                labels_true[file_name] = []\n",
    "            array = np.load(file_path)\n",
    "            arrays[file_name].append(np.load(file_path))\n",
    "            labels_true[file_name].extend([classes[i]]*array.shape[0])\n",
    "    i+=1\n",
    "for file_name, data in arrays.items():\n",
    "    arrays[file_name] = np.concatenate(data)"
   ]
  },
  {
   "cell_type": "code",
   "execution_count": 3,
   "outputs": [
    {
     "data": {
      "text/plain": "dict_keys(['x_32_32_kz_data', 'x_32_32_kz_data_2', 'x_32_32_mp4_data', 'x_32_32_mp4_data_2', 'x_64_64_kz_data', 'x_64_64_kz_data_2', 'x_64_64_mp4_data', 'x_64_64_mp4_data_2', 'y_32_32_kz_data', 'y_32_32_kz_data_2', 'y_32_32_mp4_data', 'y_32_32_mp4_data_2', 'y_64_64_kz_data', 'y_64_64_kz_data_2', 'y_64_64_mp4_data', 'y_64_64_mp4_data_2'])"
     },
     "execution_count": 3,
     "metadata": {},
     "output_type": "execute_result"
    }
   ],
   "source": [
    "arrays.keys()"
   ],
   "metadata": {
    "collapsed": false,
    "pycharm": {
     "name": "#%%\n"
    }
   }
  },
  {
   "cell_type": "code",
   "execution_count": 17,
   "outputs": [
    {
     "data": {
      "text/plain": "(2848, 32, 32)"
     },
     "execution_count": 17,
     "metadata": {},
     "output_type": "execute_result"
    }
   ],
   "source": [
    "agg = arrays['x_32_32_kz_data']\n",
    "agg.shape"
   ],
   "metadata": {
    "collapsed": false,
    "pycharm": {
     "name": "#%%\n"
    }
   }
  },
  {
   "cell_type": "code",
   "execution_count": 42,
   "outputs": [],
   "source": [
    "y = labels_true['x_32_32_kz_data']"
   ],
   "metadata": {
    "collapsed": false,
    "pycharm": {
     "name": "#%%\n"
    }
   }
  },
  {
   "cell_type": "code",
   "execution_count": 6,
   "outputs": [
    {
     "data": {
      "text/plain": "(62554, 32, 32, 3)"
     },
     "execution_count": 6,
     "metadata": {},
     "output_type": "execute_result"
    }
   ],
   "source": [
    "imgs = arrays['x_32_32_mp4_data']\n",
    "imgs.shape"
   ],
   "metadata": {
    "collapsed": false,
    "pycharm": {
     "name": "#%%\n"
    }
   }
  },
  {
   "cell_type": "code",
   "execution_count": null,
   "outputs": [],
   "source": [
    "j=0\n",
    "images,labs=[],[]\n",
    "for i in range(len(imgs)):\n",
    "    print(j)\n",
    "    if arrays['y_32_32_mp4_data'][i] == j:\n",
    "        images.append(arrays['x_32_32_mp4_data'][i])\n",
    "        labs.append(labels_true['x_32_32_mp4_data'][i])\n",
    "        j+=1\n",
    "        if j==4:\n",
    "            j=0\n"
   ],
   "metadata": {
    "collapsed": false,
    "pycharm": {
     "name": "#%%\n",
     "is_executing": true
    }
   }
  },
  {
   "cell_type": "code",
   "execution_count": 66,
   "outputs": [],
   "source": [
    "img = imgs[0]"
   ],
   "metadata": {
    "collapsed": false,
    "pycharm": {
     "name": "#%%\n"
    }
   }
  },
  {
   "cell_type": "code",
   "execution_count": 4,
   "outputs": [],
   "source": [
    "grays=[]\n",
    "for img in imgs:\n",
    "    _,img1 = cv2.threshold(img,127,255,cv2.THRESH_BINARY)\n",
    "    grays.append(img1)"
   ],
   "metadata": {
    "collapsed": false,
    "pycharm": {
     "name": "#%%\n"
    }
   }
  },
  {
   "cell_type": "code",
   "execution_count": 115,
   "outputs": [],
   "source": [
    "y = labels_true['x_32_32_kz_data']\n",
    "y = np.array(y)"
   ],
   "metadata": {
    "collapsed": false,
    "pycharm": {
     "name": "#%%\n"
    }
   }
  },
  {
   "cell_type": "code",
   "execution_count": 5,
   "outputs": [],
   "source": [
    "y1=labels_true['y_32_32_mp4_data']"
   ],
   "metadata": {
    "collapsed": false,
    "pycharm": {
     "name": "#%%\n"
    }
   }
  },
  {
   "cell_type": "code",
   "execution_count": 6,
   "outputs": [],
   "source": [
    "grays  = np.array(grays)"
   ],
   "metadata": {
    "collapsed": false,
    "pycharm": {
     "name": "#%%\n"
    }
   }
  },
  {
   "cell_type": "code",
   "execution_count": 7,
   "outputs": [
    {
     "ename": "ValueError",
     "evalue": "cannot reshape array of size 192165888 into shape (2848,newaxis)",
     "output_type": "error",
     "traceback": [
      "\u001B[1;31m---------------------------------------------------------------------------\u001B[0m",
      "\u001B[1;31mValueError\u001B[0m                                Traceback (most recent call last)",
      "Input \u001B[1;32mIn [7]\u001B[0m, in \u001B[0;36m<cell line: 1>\u001B[1;34m()\u001B[0m\n\u001B[1;32m----> 1\u001B[0m grays \u001B[38;5;241m=\u001B[39m \u001B[43mgrays\u001B[49m\u001B[38;5;241;43m.\u001B[39;49m\u001B[43mreshape\u001B[49m\u001B[43m(\u001B[49m\u001B[38;5;241;43m2848\u001B[39;49m\u001B[43m,\u001B[49m\u001B[38;5;241;43m-\u001B[39;49m\u001B[38;5;241;43m1\u001B[39;49m\u001B[43m)\u001B[49m\n",
      "\u001B[1;31mValueError\u001B[0m: cannot reshape array of size 192165888 into shape (2848,newaxis)"
     ]
    }
   ],
   "source": [
    "grays = grays.reshape(2848,-1)"
   ],
   "metadata": {
    "collapsed": false,
    "pycharm": {
     "name": "#%%\n"
    }
   }
  },
  {
   "cell_type": "code",
   "execution_count": 260,
   "outputs": [
    {
     "data": {
      "text/plain": "(2848, 32, 32)"
     },
     "execution_count": 260,
     "metadata": {},
     "output_type": "execute_result"
    }
   ],
   "source": [
    "grays.shape"
   ],
   "metadata": {
    "collapsed": false,
    "pycharm": {
     "name": "#%%\n"
    }
   }
  },
  {
   "cell_type": "code",
   "execution_count": 162,
   "outputs": [],
   "source": [
    "new_data = np.reshape(grays, (712, 4, 1024))"
   ],
   "metadata": {
    "collapsed": false,
    "pycharm": {
     "name": "#%%\n"
    }
   }
  },
  {
   "cell_type": "code",
   "execution_count": 163,
   "outputs": [
    {
     "data": {
      "text/plain": "(712, 4, 1024)"
     },
     "execution_count": 163,
     "metadata": {},
     "output_type": "execute_result"
    }
   ],
   "source": [
    "new_data.shape"
   ],
   "metadata": {
    "collapsed": false,
    "pycharm": {
     "name": "#%%\n"
    }
   }
  },
  {
   "cell_type": "code",
   "execution_count": 160,
   "outputs": [],
   "source": [
    "agg_labels = []\n",
    "for i,item in enumerate(y):\n",
    "    if i%4 ==0:\n",
    "     agg_labels.append(item)"
   ],
   "metadata": {
    "collapsed": false,
    "pycharm": {
     "name": "#%%\n"
    }
   }
  },
  {
   "cell_type": "code",
   "execution_count": 161,
   "outputs": [
    {
     "data": {
      "text/plain": "(712,)"
     },
     "execution_count": 161,
     "metadata": {},
     "output_type": "execute_result"
    }
   ],
   "source": [
    "agg_labels = np.array(agg_labels)\n",
    "agg_labels.shape"
   ],
   "metadata": {
    "collapsed": false,
    "pycharm": {
     "name": "#%%\n"
    }
   }
  },
  {
   "cell_type": "code",
   "execution_count": 164,
   "outputs": [],
   "source": [
    "from sklearn.model_selection import train_test_split\n",
    "\n",
    "# Split your data into training and test sets\n",
    "x_train, x_test, y_train, y_test = train_test_split(new_data,agg_labels , test_size=0.2, random_state=13)\n",
    "\n",
    "# Split the training data into training and validation sets\n",
    "x_train, x_val, y_train, y_val = train_test_split(x_train, y_train, test_size=0.25, random_state=13)\n"
   ],
   "metadata": {
    "collapsed": false,
    "pycharm": {
     "name": "#%%\n"
    }
   }
  },
  {
   "cell_type": "code",
   "execution_count": 165,
   "outputs": [],
   "source": [
    "from keras.utils import to_categorical\n",
    "\n",
    "# One-hot encode the labels\n",
    "y_train = to_categorical(y_train, num_classes=8)\n",
    "y_val = to_categorical(y_val, num_classes=8)\n",
    "y_test = to_categorical(y_test, num_classes=8)\n"
   ],
   "metadata": {
    "collapsed": false,
    "pycharm": {
     "name": "#%%\n"
    }
   }
  },
  {
   "cell_type": "code",
   "execution_count": 169,
   "outputs": [
    {
     "name": "stdout",
     "output_type": "stream",
     "text": [
      "Epoch 1/30\n",
      "54/54 [==============================] - 3s 12ms/step - loss: 2.2546 - accuracy: 0.1408 - val_loss: 2.1412 - val_accuracy: 0.1189\n",
      "Epoch 2/30\n",
      "54/54 [==============================] - 0s 6ms/step - loss: 2.0371 - accuracy: 0.1831 - val_loss: 2.0995 - val_accuracy: 0.0979\n",
      "Epoch 3/30\n",
      "54/54 [==============================] - 0s 6ms/step - loss: 2.0099 - accuracy: 0.2300 - val_loss: 2.0782 - val_accuracy: 0.1399\n",
      "Epoch 4/30\n",
      "54/54 [==============================] - 0s 6ms/step - loss: 1.9984 - accuracy: 0.2019 - val_loss: 2.1101 - val_accuracy: 0.1469\n",
      "Epoch 5/30\n",
      "54/54 [==============================] - 0s 6ms/step - loss: 1.9817 - accuracy: 0.2066 - val_loss: 2.1006 - val_accuracy: 0.1189\n",
      "Epoch 6/30\n",
      "54/54 [==============================] - 0s 6ms/step - loss: 1.9793 - accuracy: 0.2300 - val_loss: 2.0798 - val_accuracy: 0.1608\n",
      "Epoch 7/30\n",
      "54/54 [==============================] - 0s 6ms/step - loss: 1.9520 - accuracy: 0.2347 - val_loss: 2.1161 - val_accuracy: 0.1678\n",
      "Epoch 8/30\n",
      "54/54 [==============================] - 0s 6ms/step - loss: 1.9298 - accuracy: 0.2606 - val_loss: 2.1037 - val_accuracy: 0.1608\n",
      "Epoch 9/30\n",
      "54/54 [==============================] - 0s 6ms/step - loss: 1.9047 - accuracy: 0.2746 - val_loss: 2.0823 - val_accuracy: 0.1888\n",
      "Epoch 10/30\n",
      "54/54 [==============================] - 0s 6ms/step - loss: 1.8986 - accuracy: 0.2676 - val_loss: 2.1217 - val_accuracy: 0.1538\n",
      "Epoch 11/30\n",
      "54/54 [==============================] - 0s 6ms/step - loss: 1.8801 - accuracy: 0.3052 - val_loss: 2.1080 - val_accuracy: 0.1748\n",
      "Epoch 12/30\n",
      "54/54 [==============================] - 0s 6ms/step - loss: 1.8826 - accuracy: 0.2512 - val_loss: 2.0836 - val_accuracy: 0.1748\n",
      "Epoch 13/30\n",
      "54/54 [==============================] - 0s 8ms/step - loss: 1.8716 - accuracy: 0.2770 - val_loss: 2.1872 - val_accuracy: 0.1049\n",
      "Epoch 14/30\n",
      "54/54 [==============================] - 0s 7ms/step - loss: 1.8666 - accuracy: 0.2770 - val_loss: 2.0632 - val_accuracy: 0.1678\n",
      "Epoch 15/30\n",
      "54/54 [==============================] - 0s 7ms/step - loss: 1.8576 - accuracy: 0.2559 - val_loss: 2.1212 - val_accuracy: 0.1259\n",
      "Epoch 16/30\n",
      "54/54 [==============================] - 0s 8ms/step - loss: 1.8597 - accuracy: 0.2465 - val_loss: 2.1703 - val_accuracy: 0.1678\n",
      "Epoch 17/30\n",
      "54/54 [==============================] - 0s 7ms/step - loss: 1.8313 - accuracy: 0.3028 - val_loss: 2.0971 - val_accuracy: 0.2028\n",
      "Epoch 18/30\n",
      "54/54 [==============================] - 0s 7ms/step - loss: 1.8598 - accuracy: 0.2770 - val_loss: 2.1227 - val_accuracy: 0.2028\n",
      "Epoch 19/30\n",
      "54/54 [==============================] - 0s 9ms/step - loss: 1.8069 - accuracy: 0.2958 - val_loss: 2.1151 - val_accuracy: 0.2238\n",
      "Epoch 20/30\n",
      "54/54 [==============================] - 1s 9ms/step - loss: 1.8198 - accuracy: 0.3075 - val_loss: 2.1369 - val_accuracy: 0.2378\n",
      "Epoch 21/30\n",
      "54/54 [==============================] - 1s 12ms/step - loss: 1.8220 - accuracy: 0.3286 - val_loss: 2.1294 - val_accuracy: 0.1958\n",
      "Epoch 22/30\n",
      "54/54 [==============================] - 1s 12ms/step - loss: 1.7913 - accuracy: 0.3075 - val_loss: 2.1033 - val_accuracy: 0.2098\n",
      "Epoch 23/30\n",
      "54/54 [==============================] - 0s 8ms/step - loss: 1.7787 - accuracy: 0.3216 - val_loss: 2.1229 - val_accuracy: 0.1958\n",
      "Epoch 24/30\n",
      "54/54 [==============================] - 0s 7ms/step - loss: 1.7670 - accuracy: 0.3122 - val_loss: 2.1385 - val_accuracy: 0.1888\n",
      "Epoch 25/30\n",
      "54/54 [==============================] - 0s 6ms/step - loss: 1.7813 - accuracy: 0.3005 - val_loss: 2.0883 - val_accuracy: 0.2168\n",
      "Epoch 26/30\n",
      "54/54 [==============================] - 0s 7ms/step - loss: 1.7544 - accuracy: 0.3263 - val_loss: 2.1049 - val_accuracy: 0.2098\n",
      "Epoch 27/30\n",
      "54/54 [==============================] - 0s 7ms/step - loss: 1.7364 - accuracy: 0.3404 - val_loss: 2.0757 - val_accuracy: 0.2378\n",
      "Epoch 28/30\n",
      "54/54 [==============================] - 0s 7ms/step - loss: 1.7426 - accuracy: 0.3451 - val_loss: 2.1545 - val_accuracy: 0.1678\n",
      "Epoch 29/30\n",
      "54/54 [==============================] - 0s 7ms/step - loss: 1.7431 - accuracy: 0.3310 - val_loss: 2.1277 - val_accuracy: 0.2098\n",
      "Epoch 30/30\n",
      "54/54 [==============================] - 0s 7ms/step - loss: 1.7315 - accuracy: 0.3568 - val_loss: 2.1707 - val_accuracy: 0.1748\n",
      "5/5 [==============================] - 0s 3ms/step - loss: 2.1446 - accuracy: 0.1678\n",
      "Test accuracy: 0.1678321659564972\n"
     ]
    }
   ],
   "source": [
    "import numpy as np\n",
    "import keras\n",
    "from keras.models import Sequential\n",
    "from keras.layers import SimpleRNN, Dense\n",
    "\n",
    "# Load the training and testing data\n",
    "\n",
    "\n",
    "# Define the model architecture\n",
    "model = Sequential()\n",
    "model.add(SimpleRNN(units=128, input_shape=(4, 1024)))\n",
    "model.add(Dense(units=32, activation='relu'))\n",
    "model.add(Dense(units=8, activation='softmax'))\n",
    "\n",
    "# Compile the model\n",
    "model.compile(loss='categorical_crossentropy',\n",
    "              optimizer='adam',\n",
    "              metrics=['accuracy'])\n",
    "\n",
    "# Train the model\n",
    "history = model.fit(x_train, y_train,\n",
    "                    batch_size=8,\n",
    "                    epochs=30,\n",
    "                    validation_data=(x_val, y_val))\n",
    "\n",
    "# Evaluate the model on the test data\n",
    "test_loss, test_acc = model.evaluate(x_test, y_test)\n",
    "print('Test accuracy:', test_acc)\n"
   ],
   "metadata": {
    "collapsed": false,
    "pycharm": {
     "name": "#%%\n"
    }
   }
  },
  {
   "cell_type": "code",
   "execution_count": 152,
   "outputs": [
    {
     "name": "stdout",
     "output_type": "stream",
     "text": [
      "Epoch 1/20\n",
      "107/107 [==============================] - 4s 22ms/step - loss: 5.2593 - accuracy: 0.4637 - val_loss: 0.9630 - val_accuracy: 0.6877\n",
      "Epoch 2/20\n",
      "107/107 [==============================] - 2s 18ms/step - loss: 1.1052 - accuracy: 0.6317 - val_loss: 0.7312 - val_accuracy: 0.7772\n",
      "Epoch 3/20\n",
      "107/107 [==============================] - 2s 16ms/step - loss: 0.8571 - accuracy: 0.7073 - val_loss: 0.7658 - val_accuracy: 0.7526\n",
      "Epoch 4/20\n",
      "107/107 [==============================] - 2s 16ms/step - loss: 0.7317 - accuracy: 0.7459 - val_loss: 0.5805 - val_accuracy: 0.8193\n",
      "Epoch 5/20\n",
      "107/107 [==============================] - 2s 18ms/step - loss: 0.5281 - accuracy: 0.8156 - val_loss: 0.5324 - val_accuracy: 0.8246\n",
      "Epoch 6/20\n",
      "107/107 [==============================] - 2s 16ms/step - loss: 0.4739 - accuracy: 0.8261 - val_loss: 0.4696 - val_accuracy: 0.8263\n",
      "Epoch 7/20\n",
      "107/107 [==============================] - 2s 16ms/step - loss: 0.3708 - accuracy: 0.8577 - val_loss: 0.5310 - val_accuracy: 0.8281\n",
      "Epoch 8/20\n",
      "107/107 [==============================] - 2s 16ms/step - loss: 0.4094 - accuracy: 0.8542 - val_loss: 0.5206 - val_accuracy: 0.8404\n",
      "Epoch 9/20\n",
      "107/107 [==============================] - 2s 17ms/step - loss: 0.3706 - accuracy: 0.8659 - val_loss: 0.4336 - val_accuracy: 0.8456\n",
      "Epoch 10/20\n",
      "107/107 [==============================] - 2s 17ms/step - loss: 0.3166 - accuracy: 0.8929 - val_loss: 0.5609 - val_accuracy: 0.8351\n",
      "Epoch 11/20\n",
      "107/107 [==============================] - 2s 18ms/step - loss: 0.2995 - accuracy: 0.8958 - val_loss: 0.4973 - val_accuracy: 0.8544\n",
      "Epoch 12/20\n",
      "107/107 [==============================] - 2s 16ms/step - loss: 0.2535 - accuracy: 0.9186 - val_loss: 0.4551 - val_accuracy: 0.8772\n",
      "Epoch 13/20\n",
      "107/107 [==============================] - 2s 16ms/step - loss: 0.2593 - accuracy: 0.9063 - val_loss: 0.5110 - val_accuracy: 0.8667\n",
      "Epoch 14/20\n",
      "107/107 [==============================] - 2s 16ms/step - loss: 0.2008 - accuracy: 0.9315 - val_loss: 0.5437 - val_accuracy: 0.8579\n",
      "Epoch 15/20\n",
      "107/107 [==============================] - 2s 16ms/step - loss: 0.2101 - accuracy: 0.9286 - val_loss: 0.5016 - val_accuracy: 0.8579\n",
      "Epoch 16/20\n",
      "107/107 [==============================] - 2s 16ms/step - loss: 0.2213 - accuracy: 0.9210 - val_loss: 0.5184 - val_accuracy: 0.8386\n",
      "Epoch 17/20\n",
      "107/107 [==============================] - 2s 19ms/step - loss: 0.2213 - accuracy: 0.9297 - val_loss: 0.5385 - val_accuracy: 0.8667\n",
      "Epoch 18/20\n",
      "107/107 [==============================] - 2s 16ms/step - loss: 0.1742 - accuracy: 0.9409 - val_loss: 0.5006 - val_accuracy: 0.8561\n",
      "Epoch 19/20\n",
      "107/107 [==============================] - 2s 17ms/step - loss: 0.2001 - accuracy: 0.9315 - val_loss: 0.5898 - val_accuracy: 0.8509\n",
      "Epoch 20/20\n",
      "107/107 [==============================] - 2s 16ms/step - loss: 0.1786 - accuracy: 0.9362 - val_loss: 0.5327 - val_accuracy: 0.8579\n",
      "Test Accuracy: 0.8614035248756409\n"
     ]
    }
   ],
   "source": [
    "import numpy as np\n",
    "import keras\n",
    "from keras.models import Sequential\n",
    "from keras.layers import Conv2D, MaxPooling2D, Flatten, Dense, Dropout\n",
    "\n",
    "\n",
    "# Define your model architecture\n",
    "model = Sequential()\n",
    "model.add(Conv2D(32, kernel_size=(3,3), activation='relu', input_shape=(32, 32, 1)))\n",
    "model.add(MaxPooling2D(pool_size=(2, 2)))\n",
    "model.add(Conv2D(64, kernel_size=(3,3), activation='relu'))\n",
    "model.add(MaxPooling2D(pool_size=(2, 2)))\n",
    "model.add(Flatten())\n",
    "model.add(Dense(128, activation='relu'))\n",
    "model.add(Dropout(0.5))\n",
    "model.add(Dense(8, activation='softmax'))\n",
    "\n",
    "# Compile the model\n",
    "model.compile(loss=keras.losses.categorical_crossentropy,\n",
    "              optimizer=keras.optimizers.Adam(),\n",
    "              metrics=['accuracy'])\n",
    "\n",
    "# Train the model and validate it after each epoch\n",
    "history = model.fit(x_train, y_train, batch_size=16, epochs=20, verbose=1,\n",
    "                    validation_data=(x_val, y_val))\n",
    "\n",
    "# Evaluate the model on the test data\n",
    "test_loss, test_acc = model.evaluate(x_test, y_test, verbose=0)\n",
    "print('Test Accuracy:', test_acc)\n"
   ],
   "metadata": {
    "collapsed": false,
    "pycharm": {
     "name": "#%%\n"
    }
   }
  },
  {
   "cell_type": "code",
   "execution_count": 64,
   "outputs": [],
   "source": [
    "agg_labels = []\n",
    "for i,item in enumerate(labelos):\n",
    "    if i%4 ==0:\n",
    "     agg_labels.append(item)"
   ],
   "metadata": {
    "collapsed": false,
    "pycharm": {
     "name": "#%%\n"
    }
   }
  },
  {
   "cell_type": "code",
   "execution_count": 16,
   "outputs": [],
   "source": [
    "one_moment = []\n",
    "tresh = 128\n",
    "for sample,number in zip(arrays['x_32_32_mp4_data'],arrays['y_32_32_mp4_data']):\n",
    "\n",
    "    if number == 1:\n",
    "        #_, sample = cv2.threshold(sample, tresh, 255, cv2.THRESH_BINARY)\n",
    "        one_moment.append(sample)\n"
   ],
   "metadata": {
    "collapsed": false,
    "pycharm": {
     "name": "#%%\n"
    }
   }
  },
  {
   "cell_type": "code",
   "execution_count": 17,
   "outputs": [],
   "source": [
    "one_moment_labels = []\n",
    "for sample,number in zip(labels_true['x_32_32_mp4_data'],arrays['y_32_32_mp4_data']):\n",
    "    if number == 1:\n",
    "        one_moment_labels.append(sample)"
   ],
   "metadata": {
    "collapsed": false,
    "pycharm": {
     "name": "#%%\n"
    }
   }
  },
  {
   "cell_type": "code",
   "execution_count": 21,
   "outputs": [
    {
     "data": {
      "text/plain": "(2848, 1024)"
     },
     "execution_count": 21,
     "metadata": {},
     "output_type": "execute_result"
    }
   ],
   "source": [
    "agg=agg.reshape(2848,-1)\n",
    "agg.shape"
   ],
   "metadata": {
    "collapsed": false,
    "pycharm": {
     "name": "#%%\n"
    }
   }
  },
  {
   "cell_type": "code",
   "execution_count": 58,
   "outputs": [],
   "source": [
    "from sklearn.manifold import LocallyLinearEmbedding\n",
    "\n",
    "#X = z.reshape(3036, -1)\n",
    "\n",
    "lle = LocallyLinearEmbedding(n_components=10, method='standard')\n",
    "X_lle = lle.fit_transform(agg)\n",
    "\n"
   ],
   "metadata": {
    "collapsed": false,
    "pycharm": {
     "name": "#%%\n"
    }
   }
  },
  {
   "cell_type": "code",
   "execution_count": 43,
   "outputs": [
    {
     "data": {
      "text/plain": "<matplotlib.collections.PathCollection at 0x15ea04152a0>"
     },
     "execution_count": 43,
     "metadata": {},
     "output_type": "execute_result"
    },
    {
     "data": {
      "text/plain": "<Figure size 640x480 with 1 Axes>",
      "image/png": "[encoded data removed]"
     },
     "metadata": {},
     "output_type": "display_data"
    }
   ],
   "source": [
    "plt.scatter(X_lle[:,0],X_lle[:,1],c=y)"
   ],
   "metadata": {
    "collapsed": false,
    "pycharm": {
     "name": "#%%\n"
    }
   }
  },
  {
   "cell_type": "code",
   "execution_count": 9,
   "outputs": [],
   "source": [
    "one_moment=grays"
   ],
   "metadata": {
    "collapsed": false,
    "pycharm": {
     "name": "#%%\n"
    }
   }
  },
  {
   "cell_type": "code",
   "execution_count": 10,
   "outputs": [],
   "source": [
    "one_moment = one_moment.reshape(one_moment.shape[0],-1)\n"
   ],
   "metadata": {
    "collapsed": false,
    "pycharm": {
     "name": "#%%\n"
    }
   }
  },
  {
   "cell_type": "code",
   "execution_count": 252,
   "outputs": [],
   "source": [
    "one_moment_labels= np.array(y1)"
   ],
   "metadata": {
    "collapsed": false,
    "pycharm": {
     "name": "#%%\n"
    }
   }
  },
  {
   "cell_type": "code",
   "execution_count": 11,
   "outputs": [
    {
     "data": {
      "text/plain": "(62554, 3072)"
     },
     "execution_count": 11,
     "metadata": {},
     "output_type": "execute_result"
    }
   ],
   "source": [
    "one_moment.shape"
   ],
   "metadata": {
    "collapsed": false,
    "pycharm": {
     "name": "#%%\n"
    }
   }
  },
  {
   "cell_type": "code",
   "execution_count": 72,
   "outputs": [],
   "source": [
    "agg_labels = np.array(agg_labels)"
   ],
   "metadata": {
    "collapsed": false,
    "pycharm": {
     "name": "#%%\n"
    }
   }
  },
  {
   "cell_type": "code",
   "execution_count": 73,
   "outputs": [],
   "source": [
    "n_samples = one_moment.shape[0]\n",
    "indices = np.arange(n_samples)\n",
    "\n",
    "# Shuffle the indices\n",
    "np.random.shuffle(indices)\n",
    "\n",
    "# Use the shuffled indices to index into the data arrays\n",
    "one_moment = one_moment[indices]\n",
    "agg_labels = agg_labels[indices]"
   ],
   "metadata": {
    "collapsed": false,
    "pycharm": {
     "name": "#%%\n"
    }
   }
  },
  {
   "cell_type": "code",
   "execution_count": 22,
   "outputs": [
    {
     "ename": "MemoryError",
     "evalue": "Unable to allocate 29.2 GiB for an array with shape (62554, 62554) and data type float64",
     "output_type": "error",
     "traceback": [
      "\u001B[1;31m---------------------------------------------------------------------------\u001B[0m",
      "\u001B[1;31mMemoryError\u001B[0m                               Traceback (most recent call last)",
      "Input \u001B[1;32mIn [22]\u001B[0m, in \u001B[0;36m<cell line: 3>\u001B[1;34m()\u001B[0m\n\u001B[0;32m      1\u001B[0m \u001B[38;5;28;01mfrom\u001B[39;00m \u001B[38;5;21;01msklearn\u001B[39;00m\u001B[38;5;21;01m.\u001B[39;00m\u001B[38;5;21;01mmanifold\u001B[39;00m \u001B[38;5;28;01mimport\u001B[39;00m LocallyLinearEmbedding\n\u001B[0;32m      2\u001B[0m lle \u001B[38;5;241m=\u001B[39m LocallyLinearEmbedding(n_components\u001B[38;5;241m=\u001B[39m\u001B[38;5;241m10\u001B[39m, method\u001B[38;5;241m=\u001B[39m\u001B[38;5;124m'\u001B[39m\u001B[38;5;124mstandard\u001B[39m\u001B[38;5;124m'\u001B[39m)\n\u001B[1;32m----> 3\u001B[0m one \u001B[38;5;241m=\u001B[39m \u001B[43mlle\u001B[49m\u001B[38;5;241;43m.\u001B[39;49m\u001B[43mfit_transform\u001B[49m\u001B[43m(\u001B[49m\u001B[43mone_moment\u001B[49m\u001B[43m)\u001B[49m\n",
      "File \u001B[1;32m~\\AppData\\Local\\Programs\\Python\\Python310\\lib\\site-packages\\sklearn\\utils\\_set_output.py:142\u001B[0m, in \u001B[0;36m_wrap_method_output.<locals>.wrapped\u001B[1;34m(self, X, *args, **kwargs)\u001B[0m\n\u001B[0;32m    140\u001B[0m \u001B[38;5;129m@wraps\u001B[39m(f)\n\u001B[0;32m    141\u001B[0m \u001B[38;5;28;01mdef\u001B[39;00m \u001B[38;5;21mwrapped\u001B[39m(\u001B[38;5;28mself\u001B[39m, X, \u001B[38;5;241m*\u001B[39margs, \u001B[38;5;241m*\u001B[39m\u001B[38;5;241m*\u001B[39mkwargs):\n\u001B[1;32m--> 142\u001B[0m     data_to_wrap \u001B[38;5;241m=\u001B[39m f(\u001B[38;5;28mself\u001B[39m, X, \u001B[38;5;241m*\u001B[39margs, \u001B[38;5;241m*\u001B[39m\u001B[38;5;241m*\u001B[39mkwargs)\n\u001B[0;32m    143\u001B[0m     \u001B[38;5;28;01mif\u001B[39;00m \u001B[38;5;28misinstance\u001B[39m(data_to_wrap, \u001B[38;5;28mtuple\u001B[39m):\n\u001B[0;32m    144\u001B[0m         \u001B[38;5;66;03m# only wrap the first output for cross decomposition\u001B[39;00m\n\u001B[0;32m    145\u001B[0m         \u001B[38;5;28;01mreturn\u001B[39;00m (\n\u001B[0;32m    146\u001B[0m             _wrap_data_with_container(method, data_to_wrap[\u001B[38;5;241m0\u001B[39m], X, \u001B[38;5;28mself\u001B[39m),\n\u001B[0;32m    147\u001B[0m             \u001B[38;5;241m*\u001B[39mdata_to_wrap[\u001B[38;5;241m1\u001B[39m:],\n\u001B[0;32m    148\u001B[0m         )\n",
      "File \u001B[1;32m~\\AppData\\Local\\Programs\\Python\\Python310\\lib\\site-packages\\sklearn\\manifold\\_locally_linear.py:798\u001B[0m, in \u001B[0;36mLocallyLinearEmbedding.fit_transform\u001B[1;34m(self, X, y)\u001B[0m\n\u001B[0;32m    782\u001B[0m \u001B[38;5;124;03m\"\"\"Compute the embedding vectors for data X and transform X.\u001B[39;00m\n\u001B[0;32m    783\u001B[0m \n\u001B[0;32m    784\u001B[0m \u001B[38;5;124;03mParameters\u001B[39;00m\n\u001B[1;32m   (...)\u001B[0m\n\u001B[0;32m    795\u001B[0m \u001B[38;5;124;03m    Returns the instance itself.\u001B[39;00m\n\u001B[0;32m    796\u001B[0m \u001B[38;5;124;03m\"\"\"\u001B[39;00m\n\u001B[0;32m    797\u001B[0m \u001B[38;5;28mself\u001B[39m\u001B[38;5;241m.\u001B[39m_validate_params()\n\u001B[1;32m--> 798\u001B[0m \u001B[38;5;28;43mself\u001B[39;49m\u001B[38;5;241;43m.\u001B[39;49m\u001B[43m_fit_transform\u001B[49m\u001B[43m(\u001B[49m\u001B[43mX\u001B[49m\u001B[43m)\u001B[49m\n\u001B[0;32m    799\u001B[0m \u001B[38;5;28;01mreturn\u001B[39;00m \u001B[38;5;28mself\u001B[39m\u001B[38;5;241m.\u001B[39membedding_\n",
      "File \u001B[1;32m~\\AppData\\Local\\Programs\\Python\\Python310\\lib\\site-packages\\sklearn\\manifold\\_locally_linear.py:745\u001B[0m, in \u001B[0;36mLocallyLinearEmbedding._fit_transform\u001B[1;34m(self, X)\u001B[0m\n\u001B[0;32m    743\u001B[0m X \u001B[38;5;241m=\u001B[39m \u001B[38;5;28mself\u001B[39m\u001B[38;5;241m.\u001B[39m_validate_data(X, dtype\u001B[38;5;241m=\u001B[39m\u001B[38;5;28mfloat\u001B[39m)\n\u001B[0;32m    744\u001B[0m \u001B[38;5;28mself\u001B[39m\u001B[38;5;241m.\u001B[39mnbrs_\u001B[38;5;241m.\u001B[39mfit(X)\n\u001B[1;32m--> 745\u001B[0m \u001B[38;5;28mself\u001B[39m\u001B[38;5;241m.\u001B[39membedding_, \u001B[38;5;28mself\u001B[39m\u001B[38;5;241m.\u001B[39mreconstruction_error_ \u001B[38;5;241m=\u001B[39m \u001B[43mlocally_linear_embedding\u001B[49m\u001B[43m(\u001B[49m\n\u001B[0;32m    746\u001B[0m \u001B[43m    \u001B[49m\u001B[43mX\u001B[49m\u001B[38;5;241;43m=\u001B[39;49m\u001B[38;5;28;43mself\u001B[39;49m\u001B[38;5;241;43m.\u001B[39;49m\u001B[43mnbrs_\u001B[49m\u001B[43m,\u001B[49m\n\u001B[0;32m    747\u001B[0m \u001B[43m    \u001B[49m\u001B[43mn_neighbors\u001B[49m\u001B[38;5;241;43m=\u001B[39;49m\u001B[38;5;28;43mself\u001B[39;49m\u001B[38;5;241;43m.\u001B[39;49m\u001B[43mn_neighbors\u001B[49m\u001B[43m,\u001B[49m\n\u001B[0;32m    748\u001B[0m \u001B[43m    \u001B[49m\u001B[43mn_components\u001B[49m\u001B[38;5;241;43m=\u001B[39;49m\u001B[38;5;28;43mself\u001B[39;49m\u001B[38;5;241;43m.\u001B[39;49m\u001B[43mn_components\u001B[49m\u001B[43m,\u001B[49m\n\u001B[0;32m    749\u001B[0m \u001B[43m    \u001B[49m\u001B[43meigen_solver\u001B[49m\u001B[38;5;241;43m=\u001B[39;49m\u001B[38;5;28;43mself\u001B[39;49m\u001B[38;5;241;43m.\u001B[39;49m\u001B[43meigen_solver\u001B[49m\u001B[43m,\u001B[49m\n\u001B[0;32m    750\u001B[0m \u001B[43m    \u001B[49m\u001B[43mtol\u001B[49m\u001B[38;5;241;43m=\u001B[39;49m\u001B[38;5;28;43mself\u001B[39;49m\u001B[38;5;241;43m.\u001B[39;49m\u001B[43mtol\u001B[49m\u001B[43m,\u001B[49m\n\u001B[0;32m    751\u001B[0m \u001B[43m    \u001B[49m\u001B[43mmax_iter\u001B[49m\u001B[38;5;241;43m=\u001B[39;49m\u001B[38;5;28;43mself\u001B[39;49m\u001B[38;5;241;43m.\u001B[39;49m\u001B[43mmax_iter\u001B[49m\u001B[43m,\u001B[49m\n\u001B[0;32m    752\u001B[0m \u001B[43m    \u001B[49m\u001B[43mmethod\u001B[49m\u001B[38;5;241;43m=\u001B[39;49m\u001B[38;5;28;43mself\u001B[39;49m\u001B[38;5;241;43m.\u001B[39;49m\u001B[43mmethod\u001B[49m\u001B[43m,\u001B[49m\n\u001B[0;32m    753\u001B[0m \u001B[43m    \u001B[49m\u001B[43mhessian_tol\u001B[49m\u001B[38;5;241;43m=\u001B[39;49m\u001B[38;5;28;43mself\u001B[39;49m\u001B[38;5;241;43m.\u001B[39;49m\u001B[43mhessian_tol\u001B[49m\u001B[43m,\u001B[49m\n\u001B[0;32m    754\u001B[0m \u001B[43m    \u001B[49m\u001B[43mmodified_tol\u001B[49m\u001B[38;5;241;43m=\u001B[39;49m\u001B[38;5;28;43mself\u001B[39;49m\u001B[38;5;241;43m.\u001B[39;49m\u001B[43mmodified_tol\u001B[49m\u001B[43m,\u001B[49m\n\u001B[0;32m    755\u001B[0m \u001B[43m    \u001B[49m\u001B[43mrandom_state\u001B[49m\u001B[38;5;241;43m=\u001B[39;49m\u001B[43mrandom_state\u001B[49m\u001B[43m,\u001B[49m\n\u001B[0;32m    756\u001B[0m \u001B[43m    \u001B[49m\u001B[43mreg\u001B[49m\u001B[38;5;241;43m=\u001B[39;49m\u001B[38;5;28;43mself\u001B[39;49m\u001B[38;5;241;43m.\u001B[39;49m\u001B[43mreg\u001B[49m\u001B[43m,\u001B[49m\n\u001B[0;32m    757\u001B[0m \u001B[43m    \u001B[49m\u001B[43mn_jobs\u001B[49m\u001B[38;5;241;43m=\u001B[39;49m\u001B[38;5;28;43mself\u001B[39;49m\u001B[38;5;241;43m.\u001B[39;49m\u001B[43mn_jobs\u001B[49m\u001B[43m,\u001B[49m\n\u001B[0;32m    758\u001B[0m \u001B[43m\u001B[49m\u001B[43m)\u001B[49m\n\u001B[0;32m    759\u001B[0m \u001B[38;5;28mself\u001B[39m\u001B[38;5;241m.\u001B[39m_n_features_out \u001B[38;5;241m=\u001B[39m \u001B[38;5;28mself\u001B[39m\u001B[38;5;241m.\u001B[39membedding_\u001B[38;5;241m.\u001B[39mshape[\u001B[38;5;241m1\u001B[39m]\n",
      "File \u001B[1;32m~\\AppData\\Local\\Programs\\Python\\Python310\\lib\\site-packages\\sklearn\\manifold\\_locally_linear.py:542\u001B[0m, in \u001B[0;36mlocally_linear_embedding\u001B[1;34m(X, n_neighbors, n_components, reg, eigen_solver, tol, max_iter, method, hessian_tol, modified_tol, random_state, n_jobs)\u001B[0m\n\u001B[0;32m    539\u001B[0m         M[nbrs_x, nbrs_y] \u001B[38;5;241m-\u001B[39m\u001B[38;5;241m=\u001B[39m GiGiT\n\u001B[0;32m    540\u001B[0m         M[neighbors[i], neighbors[i]] \u001B[38;5;241m+\u001B[39m\u001B[38;5;241m=\u001B[39m \u001B[38;5;241m1\u001B[39m\n\u001B[1;32m--> 542\u001B[0m \u001B[38;5;28;01mreturn\u001B[39;00m \u001B[43mnull_space\u001B[49m\u001B[43m(\u001B[49m\n\u001B[0;32m    543\u001B[0m \u001B[43m    \u001B[49m\u001B[43mM\u001B[49m\u001B[43m,\u001B[49m\n\u001B[0;32m    544\u001B[0m \u001B[43m    \u001B[49m\u001B[43mn_components\u001B[49m\u001B[43m,\u001B[49m\n\u001B[0;32m    545\u001B[0m \u001B[43m    \u001B[49m\u001B[43mk_skip\u001B[49m\u001B[38;5;241;43m=\u001B[39;49m\u001B[38;5;241;43m1\u001B[39;49m\u001B[43m,\u001B[49m\n\u001B[0;32m    546\u001B[0m \u001B[43m    \u001B[49m\u001B[43meigen_solver\u001B[49m\u001B[38;5;241;43m=\u001B[39;49m\u001B[43meigen_solver\u001B[49m\u001B[43m,\u001B[49m\n\u001B[0;32m    547\u001B[0m \u001B[43m    \u001B[49m\u001B[43mtol\u001B[49m\u001B[38;5;241;43m=\u001B[39;49m\u001B[43mtol\u001B[49m\u001B[43m,\u001B[49m\n\u001B[0;32m    548\u001B[0m \u001B[43m    \u001B[49m\u001B[43mmax_iter\u001B[49m\u001B[38;5;241;43m=\u001B[39;49m\u001B[43mmax_iter\u001B[49m\u001B[43m,\u001B[49m\n\u001B[0;32m    549\u001B[0m \u001B[43m    \u001B[49m\u001B[43mrandom_state\u001B[49m\u001B[38;5;241;43m=\u001B[39;49m\u001B[43mrandom_state\u001B[49m\u001B[43m,\u001B[49m\n\u001B[0;32m    550\u001B[0m \u001B[43m\u001B[49m\u001B[43m)\u001B[49m\n",
      "File \u001B[1;32m~\\AppData\\Local\\Programs\\Python\\Python310\\lib\\site-packages\\sklearn\\manifold\\_locally_linear.py:191\u001B[0m, in \u001B[0;36mnull_space\u001B[1;34m(M, k, k_skip, eigen_solver, tol, max_iter, random_state)\u001B[0m\n\u001B[0;32m    189\u001B[0m \u001B[38;5;28;01melif\u001B[39;00m eigen_solver \u001B[38;5;241m==\u001B[39m \u001B[38;5;124m\"\u001B[39m\u001B[38;5;124mdense\u001B[39m\u001B[38;5;124m\"\u001B[39m:\n\u001B[0;32m    190\u001B[0m     \u001B[38;5;28;01mif\u001B[39;00m \u001B[38;5;28mhasattr\u001B[39m(M, \u001B[38;5;124m\"\u001B[39m\u001B[38;5;124mtoarray\u001B[39m\u001B[38;5;124m\"\u001B[39m):\n\u001B[1;32m--> 191\u001B[0m         M \u001B[38;5;241m=\u001B[39m \u001B[43mM\u001B[49m\u001B[38;5;241;43m.\u001B[39;49m\u001B[43mtoarray\u001B[49m\u001B[43m(\u001B[49m\u001B[43m)\u001B[49m\n\u001B[0;32m    192\u001B[0m     eigen_values, eigen_vectors \u001B[38;5;241m=\u001B[39m eigh(\n\u001B[0;32m    193\u001B[0m         M, eigvals\u001B[38;5;241m=\u001B[39m(k_skip, k \u001B[38;5;241m+\u001B[39m k_skip \u001B[38;5;241m-\u001B[39m \u001B[38;5;241m1\u001B[39m), overwrite_a\u001B[38;5;241m=\u001B[39m\u001B[38;5;28;01mTrue\u001B[39;00m\n\u001B[0;32m    194\u001B[0m     )\n\u001B[0;32m    195\u001B[0m     index \u001B[38;5;241m=\u001B[39m np\u001B[38;5;241m.\u001B[39margsort(np\u001B[38;5;241m.\u001B[39mabs(eigen_values))\n",
      "File \u001B[1;32m~\\AppData\\Local\\Programs\\Python\\Python310\\lib\\site-packages\\scipy\\sparse\\_compressed.py:1051\u001B[0m, in \u001B[0;36m_cs_matrix.toarray\u001B[1;34m(self, order, out)\u001B[0m\n\u001B[0;32m   1049\u001B[0m \u001B[38;5;28;01mif\u001B[39;00m out \u001B[38;5;129;01mis\u001B[39;00m \u001B[38;5;28;01mNone\u001B[39;00m \u001B[38;5;129;01mand\u001B[39;00m order \u001B[38;5;129;01mis\u001B[39;00m \u001B[38;5;28;01mNone\u001B[39;00m:\n\u001B[0;32m   1050\u001B[0m     order \u001B[38;5;241m=\u001B[39m \u001B[38;5;28mself\u001B[39m\u001B[38;5;241m.\u001B[39m_swap(\u001B[38;5;124m'\u001B[39m\u001B[38;5;124mcf\u001B[39m\u001B[38;5;124m'\u001B[39m)[\u001B[38;5;241m0\u001B[39m]\n\u001B[1;32m-> 1051\u001B[0m out \u001B[38;5;241m=\u001B[39m \u001B[38;5;28;43mself\u001B[39;49m\u001B[38;5;241;43m.\u001B[39;49m\u001B[43m_process_toarray_args\u001B[49m\u001B[43m(\u001B[49m\u001B[43morder\u001B[49m\u001B[43m,\u001B[49m\u001B[43m \u001B[49m\u001B[43mout\u001B[49m\u001B[43m)\u001B[49m\n\u001B[0;32m   1052\u001B[0m \u001B[38;5;28;01mif\u001B[39;00m \u001B[38;5;129;01mnot\u001B[39;00m (out\u001B[38;5;241m.\u001B[39mflags\u001B[38;5;241m.\u001B[39mc_contiguous \u001B[38;5;129;01mor\u001B[39;00m out\u001B[38;5;241m.\u001B[39mflags\u001B[38;5;241m.\u001B[39mf_contiguous):\n\u001B[0;32m   1053\u001B[0m     \u001B[38;5;28;01mraise\u001B[39;00m \u001B[38;5;167;01mValueError\u001B[39;00m(\u001B[38;5;124m'\u001B[39m\u001B[38;5;124mOutput array must be C or F contiguous\u001B[39m\u001B[38;5;124m'\u001B[39m)\n",
      "File \u001B[1;32m~\\AppData\\Local\\Programs\\Python\\Python310\\lib\\site-packages\\scipy\\sparse\\_base.py:1298\u001B[0m, in \u001B[0;36mspmatrix._process_toarray_args\u001B[1;34m(self, order, out)\u001B[0m\n\u001B[0;32m   1296\u001B[0m     \u001B[38;5;28;01mreturn\u001B[39;00m out\n\u001B[0;32m   1297\u001B[0m \u001B[38;5;28;01melse\u001B[39;00m:\n\u001B[1;32m-> 1298\u001B[0m     \u001B[38;5;28;01mreturn\u001B[39;00m \u001B[43mnp\u001B[49m\u001B[38;5;241;43m.\u001B[39;49m\u001B[43mzeros\u001B[49m\u001B[43m(\u001B[49m\u001B[38;5;28;43mself\u001B[39;49m\u001B[38;5;241;43m.\u001B[39;49m\u001B[43mshape\u001B[49m\u001B[43m,\u001B[49m\u001B[43m \u001B[49m\u001B[43mdtype\u001B[49m\u001B[38;5;241;43m=\u001B[39;49m\u001B[38;5;28;43mself\u001B[39;49m\u001B[38;5;241;43m.\u001B[39;49m\u001B[43mdtype\u001B[49m\u001B[43m,\u001B[49m\u001B[43m \u001B[49m\u001B[43morder\u001B[49m\u001B[38;5;241;43m=\u001B[39;49m\u001B[43morder\u001B[49m\u001B[43m)\u001B[49m\n",
      "\u001B[1;31mMemoryError\u001B[0m: Unable to allocate 29.2 GiB for an array with shape (62554, 62554) and data type float64"
     ]
    }
   ],
   "source": [
    "from sklearn.manifold import LocallyLinearEmbedding\n",
    "lle = LocallyLinearEmbedding(n_components=100, method='standard')\n",
    "one = lle.fit_transform(one_moment)\n"
   ],
   "metadata": {
    "collapsed": false,
    "pycharm": {
     "name": "#%%\n"
    }
   }
  },
  {
   "cell_type": "code",
   "execution_count": 98,
   "outputs": [],
   "source": [
    "\n",
    "one_moment = (one_moment - one_moment.mean(axis=0)) / one_moment.std(axis=0)\n",
    "\n",
    "# Step 3: Create the PCA model\n",
    "pca = PCA(n_components=0.95)\n",
    "# Step 4: Fit the model to the data\n",
    "pca.fit(agg)\n",
    "\n",
    "# Step 5: Transform the data\n",
    "X_pca = pca.transform(agg)"
   ],
   "metadata": {
    "collapsed": false,
    "pycharm": {
     "name": "#%%\n"
    }
   }
  },
  {
   "cell_type": "code",
   "execution_count": 17,
   "outputs": [],
   "source": [
    "from sklearn.model_selection import train_test_split\n",
    "\n",
    "x_train, x_test, _, _ = train_test_split(X_pca,X_pca , test_size=0.7, random_state=13)"
   ],
   "metadata": {
    "collapsed": false,
    "pycharm": {
     "name": "#%%\n"
    }
   }
  },
  {
   "cell_type": "code",
   "execution_count": 61,
   "outputs": [],
   "source": [
    "model = GaussianMixture(n_components=8)\n",
    "labels = model.fit_predict(X_lle)"
   ],
   "metadata": {
    "collapsed": false,
    "pycharm": {
     "name": "#%%\n"
    }
   }
  },
  {
   "cell_type": "code",
   "execution_count": 59,
   "outputs": [],
   "source": [
    "model = SpectralClustering(n_clusters=8, affinity='nearest_neighbors')\n",
    "labels = model.fit_predict(X_lle)\n"
   ],
   "metadata": {
    "collapsed": false,
    "pycharm": {
     "name": "#%%\n"
    }
   }
  },
  {
   "cell_type": "code",
   "execution_count": 65,
   "outputs": [
    {
     "name": "stdout",
     "output_type": "stream",
     "text": [
      "Silhouette Score: 0.0046741934057121515\n",
      "Rand Score: 0.7794679891705442\n"
     ]
    }
   ],
   "source": [
    "nmi = silhouette_score(X_lle,labels)\n",
    "rand = adjusted_rand_score(y,labels)\n",
    "print(\"Silhouette Score:\", nmi)\n",
    "print(\"Rand Score:\", rand)"
   ],
   "metadata": {
    "collapsed": false,
    "pycharm": {
     "name": "#%%\n"
    }
   }
  },
  {
   "cell_type": "code",
   "execution_count": null,
   "outputs": [],
   "source": [
    "n_comps = [1,2,10,20,40,100,200,400]\n",
    "Xs,gauss_labels,spectral_labels = [],[],[]\n",
    "for n in n_comps:\n",
    "    lle = LocallyLinearEmbedding(n_components=n, method='standard')\n",
    "    X_lle = lle.fit_transform(agg)\n",
    "    model = GaussianMixture(n_components=3)\n",
    "    labels= model.fit_predict(X_lle)\n",
    "    model = SpectralClustering(n_clusters=3, affinity='nearest_neighbors')\n",
    "    labels1 = model.fit_predict(X_lle)\n",
    "    Xs.append(X_lle)\n",
    "    gauss_labels.append(labels)\n",
    "    spectral_labels.append(labels1)"
   ],
   "metadata": {
    "collapsed": false,
    "pycharm": {
     "name": "#%%\n"
    }
   }
  },
  {
   "cell_type": "code",
   "execution_count": 123,
   "outputs": [
    {
     "name": "stdout",
     "output_type": "stream",
     "text": [
      "Gauss: \n",
      "S: 0.7165623158217556 \n",
      "R: 0.005965408192735156 \n",
      "M: 0.026732120545521414\n",
      "Spectral: \n",
      "S: 0.3626724606568996 \n",
      "R: 0.02064345994783785 \n",
      "M: 0.031460058693269885\n",
      "Gauss: \n",
      "S: 0.583439109773575 \n",
      "R: 0.01093622134760239 \n",
      "M: 0.027264599431397328\n",
      "Spectral: \n",
      "S: 0.6826425812659174 \n",
      "R: 0.0008519002867018102 \n",
      "M: 0.011606642246585735\n",
      "Gauss: \n",
      "S: 0.139410780083738 \n",
      "R: 0.018447257228171855 \n",
      "M: 0.025019354464590273\n",
      "Spectral: \n",
      "S: 0.06768116892737536 \n",
      "R: 0.00046488985834050584 \n",
      "M: 0.009502594348877421\n",
      "Gauss: \n",
      "S: 0.09239271410544835 \n",
      "R: 0.016244262414628976 \n",
      "M: 0.022501862414755467\n",
      "Spectral: \n",
      "S: -0.03901265483957407 \n",
      "R: 0.007565657332666421 \n",
      "M: 0.021520825530349123\n",
      "Gauss: \n",
      "S: 0.022259663412520687 \n",
      "R: 0.00955724670265214 \n",
      "M: 0.01373221817858455\n",
      "Spectral: \n",
      "S: -0.13842798336133783 \n",
      "R: 0.008706341779040418 \n",
      "M: 0.01844961651994493\n",
      "Gauss: \n",
      "S: 0.004227839179260591 \n",
      "R: 0.009194300214501327 \n",
      "M: 0.01308713040506354\n",
      "Spectral: \n",
      "S: -0.17393063163754102 \n",
      "R: 0.009086350093956322 \n",
      "M: 0.01939049032113458\n",
      "Gauss: \n",
      "S: -0.014776777462739522 \n",
      "R: 0.00520251676193042 \n",
      "M: 0.008414658654445805\n",
      "Spectral: \n",
      "S: -0.0025531440401082755 \n",
      "R: 0.009604341544660732 \n",
      "M: 0.013067694413306146\n",
      "Gauss: \n",
      "S: -0.014278269068975951 \n",
      "R: 0.0055596421891060495 \n",
      "M: 0.018725891002788146\n",
      "Spectral: \n",
      "S: -0.018625119771524534 \n",
      "R: 0.010384933849597034 \n",
      "M: 0.024884232920408336\n"
     ]
    }
   ],
   "source": [
    "for X,gauss,spectral in zip(Xs,gauss_labels,spectral_labels):\n",
    "    nmi = silhouette_score(X,gauss)\n",
    "    ad = adjusted_mutual_info_score(y,gauss)\n",
    "    rand = adjusted_rand_score(y,gauss)\n",
    "    nmi1 = silhouette_score(X,spectral)\n",
    "    rand1 = adjusted_rand_score(y,spectral)\n",
    "    ad1 = adjusted_mutual_info_score(y,spectral)\n",
    "    print('Gauss:','\\nS:',nmi,'\\nR:',rand,'\\nM:',ad)\n",
    "    print('Spectral:','\\nS:',nmi1,'\\nR:',rand1,'\\nM:',ad1)\n"
   ],
   "metadata": {
    "collapsed": false,
    "pycharm": {
     "name": "#%%\n"
    }
   }
  },
  {
   "cell_type": "code",
   "execution_count": 103,
   "outputs": [],
   "source": [
    "import numpy as np\n",
    "\n",
    "def compute_similarity_matrix(data):\n",
    "    similarity_matrix = np.zeros((data.shape[0], data.shape[0]))\n",
    "    for i in range(data.shape[0]):\n",
    "        for j in range(i, data.shape[0]):\n",
    "            similarity = np.linalg.norm(data[i] - data[j])\n",
    "            similarity_matrix[i, j] = similarity\n",
    "            similarity_matrix[j, i] = similarity\n",
    "    return similarity_matrix\n",
    "\n",
    "data = agg\n",
    "similarity_matrix = compute_similarity_matrix(data)"
   ],
   "metadata": {
    "collapsed": false,
    "pycharm": {
     "name": "#%%\n"
    }
   }
  },
  {
   "cell_type": "code",
   "execution_count": 104,
   "outputs": [],
   "source": [
    "import numpy as np\n",
    "\n",
    "def compute_laplacian(similarity_matrix):\n",
    "    degrees = np.sum(similarity_matrix, axis=1)\n",
    "    D = np.diag(degrees)\n",
    "    L = D - similarity_matrix\n",
    "    return L\n",
    "\n",
    "\n",
    "L = compute_laplacian(similarity_matrix)"
   ],
   "metadata": {
    "collapsed": false,
    "pycharm": {
     "name": "#%%\n"
    }
   }
  },
  {
   "cell_type": "code",
   "execution_count": 127,
   "outputs": [],
   "source": [
    "import numpy as np\n",
    "\n",
    "def estimate_num_clusters(L, threshold=0.95):\n",
    "    eigenvalues, _ = np.linalg.eigh(L)\n",
    "    eigenvalues = np.sort(eigenvalues)\n",
    "    num_clusters = np.sum(eigenvalues > threshold * eigenvalues[-1])\n",
    "    return num_clusters,eigenvalues\n",
    "\n",
    "num_clusters,eigenvalues = estimate_num_clusters(L)"
   ],
   "metadata": {
    "collapsed": false,
    "pycharm": {
     "name": "#%%\n"
    }
   }
  },
  {
   "cell_type": "code",
   "execution_count": 128,
   "outputs": [
    {
     "data": {
      "text/plain": "5"
     },
     "execution_count": 128,
     "metadata": {},
     "output_type": "execute_result"
    }
   ],
   "source": [
    "num_clusters"
   ],
   "metadata": {
    "collapsed": false,
    "pycharm": {
     "name": "#%%\n"
    }
   }
  },
  {
   "cell_type": "code",
   "execution_count": 125,
   "outputs": [
    {
     "data": {
      "text/plain": "array([2.32451734e-10, 2.59673769e+06, 2.72093170e+06, ...,\n       1.63258185e+07, 1.64047037e+07, 1.64610878e+07])"
     },
     "execution_count": 125,
     "metadata": {},
     "output_type": "execute_result"
    }
   ],
   "source": [
    "eigenvalues"
   ],
   "metadata": {
    "collapsed": false,
    "pycharm": {
     "name": "#%%\n"
    }
   }
  },
  {
   "cell_type": "code",
   "execution_count": 132,
   "outputs": [
    {
     "data": {
      "text/plain": "<matplotlib.collections.PathCollection at 0x15e90feafb0>"
     },
     "execution_count": 132,
     "metadata": {},
     "output_type": "execute_result"
    },
    {
     "data": {
      "text/plain": "<Figure size 640x480 with 1 Axes>",
      "image/png": "[encoded data removed]"
     },
     "metadata": {},
     "output_type": "display_data"
    }
   ],
   "source": [
    "plt.scatter(range(40),eigenvalues[:40])"
   ],
   "metadata": {
    "collapsed": false,
    "pycharm": {
     "name": "#%%\n"
    }
   }
  }
 ],
 "metadata": {
  "kernelspec": {
   "display_name": "Python 3",
   "language": "python",
   "name": "python3"
  },
  "language_info": {
   "codemirror_mode": {
    "name": "ipython",
    "version": 2
   },
   "file_extension": ".py",
   "mimetype": "text/x-python",
   "name": "python",
   "nbconvert_exporter": "python",
   "pygments_lexer": "ipython2",
   "version": "2.7.6"
  }
 },
 "nbformat": 4,
 "nbformat_minor": 0
}