{
 "cells": [
  {
   "cell_type": "code",
   "execution_count": 2,
   "metadata": {
    "collapsed": true
   },
   "outputs": [],
   "source": [
    "import numpy as np\n",
    "import cv2\n",
    "import matplotlib.pyplot as plt\n",
    "\n",
    "clip = np.load(r'C:\\Users\\damig\\MN\\Projekt_alternatywny\\ujecie_1_kz_pociete\\atak z użyciem przedmiotu\\atak-2022_11_23_10_38_55_2.npy')"
   ]
  },
  {
   "cell_type": "code",
   "execution_count": 3,
   "outputs": [
    {
     "data": {
      "text/plain": "array([(1669196354420884,   2, 132, 1, 0, 0),\n       (1669196354420884,  25, 474, 1, 0, 0),\n       (1669196354420884,  89, 201, 0, 0, 0), ...,\n       (1669196359420685, 609, 248, 1, 0, 0),\n       (1669196359420685, 636, 231, 1, 0, 0),\n       (1669196359420685, 636, 456, 1, 0, 0)],\n      dtype=[('timestamp', '<i8'), ('x', '<i2'), ('y', '<i2'), ('polarity', 'i1'), ('_p1', '<i2'), ('_p2', 'i1')])"
     },
     "execution_count": 3,
     "metadata": {},
     "output_type": "execute_result"
    }
   ],
   "source": [
    "# clip\n",
    "\n",
    "clip"
   ],
   "metadata": {
    "collapsed": false,
    "pycharm": {
     "name": "#%%\n"
    }
   }
  },
  {
   "cell_type": "code",
   "execution_count": 4,
   "outputs": [],
   "source": [
    "k = 1000000 # mikrosekund w sekundzie"
   ],
   "metadata": {
    "collapsed": false,
    "pycharm": {
     "name": "#%%\n"
    }
   }
  },
  {
   "cell_type": "code",
   "execution_count": 5,
   "outputs": [],
   "source": [
    "agg = clip[clip['timestamp'] < clip['timestamp'][0] + 2*k]\n",
    "agg = agg[agg['timestamp'] > agg['timestamp'][0] + 1 * k]"
   ],
   "metadata": {
    "collapsed": false,
    "pycharm": {
     "name": "#%%\n"
    }
   }
  },
  {
   "cell_type": "code",
   "execution_count": 6,
   "outputs": [],
   "source": [
    "# 640 x 480\n",
    "size = (480, 640)"
   ],
   "metadata": {
    "collapsed": false,
    "pycharm": {
     "name": "#%%\n"
    }
   }
  },
  {
   "cell_type": "code",
   "execution_count": 7,
   "outputs": [],
   "source": [
    "canvas = np.zeros(size) + 0.5"
   ],
   "metadata": {
    "collapsed": false,
    "pycharm": {
     "name": "#%%\n"
    }
   }
  },
  {
   "cell_type": "code",
   "execution_count": 8,
   "outputs": [
    {
     "ename": "KeyboardInterrupt",
     "evalue": "",
     "output_type": "error",
     "traceback": [
      "\u001B[1;31m---------------------------------------------------------------------------\u001B[0m",
      "\u001B[1;31mKeyboardInterrupt\u001B[0m                         Traceback (most recent call last)",
      "Cell \u001B[1;32mIn[8], line 2\u001B[0m\n\u001B[0;32m      1\u001B[0m \u001B[38;5;28;01mfor\u001B[39;00m x, y, z \u001B[38;5;129;01min\u001B[39;00m \u001B[38;5;28mzip\u001B[39m(agg[\u001B[38;5;124m'\u001B[39m\u001B[38;5;124mx\u001B[39m\u001B[38;5;124m'\u001B[39m], agg[\u001B[38;5;124m'\u001B[39m\u001B[38;5;124my\u001B[39m\u001B[38;5;124m'\u001B[39m], agg[\u001B[38;5;124m'\u001B[39m\u001B[38;5;124mpolarity\u001B[39m\u001B[38;5;124m'\u001B[39m]):\n\u001B[1;32m----> 2\u001B[0m     \u001B[38;5;28;01mif\u001B[39;00m \u001B[43mz\u001B[49m\u001B[43m \u001B[49m\u001B[38;5;241;43m==\u001B[39;49m\u001B[43m \u001B[49m\u001B[38;5;241;43m1\u001B[39;49m:\n\u001B[0;32m      3\u001B[0m         canvas[y][x] \u001B[38;5;241m+\u001B[39m\u001B[38;5;241m=\u001B[39m \u001B[38;5;241m1\u001B[39m\n\u001B[0;32m      4\u001B[0m     \u001B[38;5;28;01melif\u001B[39;00m z \u001B[38;5;241m==\u001B[39m \u001B[38;5;241m0\u001B[39m:\n",
      "\u001B[1;31mKeyboardInterrupt\u001B[0m: "
     ]
    }
   ],
   "source": [
    "for x, y, z in zip(agg['x'], agg['y'], agg['polarity']):\n",
    "    if z == 1:\n",
    "        canvas[y][x] += 1\n",
    "    elif z == 0:\n",
    "        canvas[y][x] -= 1\n",
    "\n",
    "    #canvas[y][x] += 1"
   ],
   "metadata": {
    "collapsed": false,
    "pycharm": {
     "name": "#%%\n"
    }
   }
  },
  {
   "cell_type": "code",
   "execution_count": null,
   "outputs": [],
   "source": [
    "# normalizacja\n",
    "\n",
    "kernel = cv2.getStructuringElement(cv2.MORPH_CROSS, (3, 3))\n",
    "img = (np.abs(canvas - 0.5) * 255).astype(np.uint8)\n",
    "img = cv2.filter2D(img, -1, (1.0 / kernel.sum()) * kernel)\n",
    "\n",
    "plt.imshow(img)"
   ],
   "metadata": {
    "collapsed": false,
    "pycharm": {
     "name": "#%%\n"
    }
   }
  },
  {
   "cell_type": "code",
   "execution_count": null,
   "outputs": [],
   "source": [
    "# odszumianie medianą\n",
    "\n",
    "img = cv2.medianBlur(img, 9)\n",
    "\n",
    "plt.imshow(img)"
   ],
   "metadata": {
    "collapsed": false,
    "pycharm": {
     "name": "#%%\n"
    }
   }
  },
  {
   "cell_type": "code",
   "execution_count": null,
   "outputs": [],
   "source": [
    "# morfologia\n",
    "\n",
    "img = cv2.morphologyEx(img, cv2.MORPH_OPEN, kernel)\n",
    "\n",
    "img = cv2.morphologyEx(img, cv2.MORPH_CLOSE, kernel)\n",
    "\n",
    "img = cv2.dilate(img, kernel)\n",
    "\n",
    "plt.imshow(img)"
   ],
   "metadata": {
    "collapsed": false,
    "pycharm": {
     "name": "#%%\n"
    }
   }
  },
  {
   "cell_type": "code",
   "execution_count": null,
   "outputs": [],
   "source": [
    "cv2.imshow('', img)\n",
    "cv2.waitKey(0)\n",
    "cv2.destroyAllWindows()"
   ],
   "metadata": {
    "collapsed": false,
    "pycharm": {
     "name": "#%%\n"
    }
   }
  },
  {
   "cell_type": "code",
   "execution_count": null,
   "outputs": [],
   "source": [
    "def roi_bounding_box(roi_mask):\n",
    "        x, y, width, height = cv2.boundingRect(roi_mask.astype(np.uint8))\n",
    "        return x, y, width, height"
   ],
   "metadata": {
    "collapsed": false,
    "pycharm": {
     "name": "#%%\n"
    }
   }
  },
  {
   "cell_type": "code",
   "execution_count": null,
   "outputs": [],
   "source": [
    "def generate_roi(blobized_image, image, ratio_thr=0.5):\n",
    "    count, obj = cv2.connectedComponents(blobized_image, connectivity=4)\n",
    "    combined_mask = None\n",
    "    for i in range(1, count):\n",
    "        obj_mask = obj == i\n",
    "        x, y, width, height = roi_bounding_box(obj_mask)\n",
    "        # background = image.mean()\n",
    "        # extracted = (image * obj_mask)[y : y + height, x : x + width] - background\n",
    "        if (\n",
    "            ((obj_mask.sum() / (width * height)) > ratio_thr)\n",
    "            # and ((extracted.sum() / (width * height)) > (0.35 * ratio_thr))\n",
    "            and (width >= (blobized_image.shape[1] * 0.1))\n",
    "            and (height >= (blobized_image.shape[0] * 0.1))\n",
    "        ):\n",
    "            if combined_mask is None:\n",
    "                combined_mask = obj_mask\n",
    "            else:\n",
    "                combined_mask += obj_mask\n",
    "    return combined_mask"
   ],
   "metadata": {
    "collapsed": false,
    "pycharm": {
     "name": "#%%\n"
    }
   }
  },
  {
   "cell_type": "code",
   "execution_count": null,
   "outputs": [],
   "source": [
    "# BLOBING\n",
    "\n",
    "# Apply thresholding\n",
    "_, thresh = cv2.threshold(img, 127, 255, cv2.THRESH_BINARY)\n",
    "\n",
    "# Detect blobs\n",
    "params = cv2.SimpleBlobDetector_Params()\n",
    "\n",
    "# Change thresholds\n",
    "params.minThreshold = 1\n",
    "params.maxThreshold = 255\n",
    "\n",
    "# Filter by Area.\n",
    "params.filterByArea = True\n",
    "params.minArea = 1\n",
    "\n",
    "detector = cv2.SimpleBlobDetector_create(params)\n",
    "keypoints = detector.detect(thresh)\n",
    "\n",
    "pts = cv2.KeyPoint_convert(keypoints)\n",
    "\n",
    "print(pts)\n",
    "\n",
    "# Crop the image\n",
    "x, y, h, w = cv2.boundingRect(pts)\n",
    "cropped = img[y:y+h, x:x+w]\n",
    "\n",
    "# # Create a mask\n",
    "# mask = np.zeros(img.shape[:2], np.uint8)\n",
    "# mask[y:y+h, x:x+w] = 255\n",
    "#\n",
    "# # Multiply the mask with the original image\n",
    "# result = cv2.bitwise_and(img, img, mask=mask)\n",
    "\n",
    "# Display the result\n",
    "cv2.imshow(\"Result\", cropped)\n",
    "cv2.waitKey(0)\n",
    "cv2.destroyAllWindows()"
   ],
   "metadata": {
    "collapsed": false,
    "pycharm": {
     "name": "#%%\n"
    }
   }
  },
  {
   "cell_type": "code",
   "execution_count": null,
   "outputs": [],
   "source": [
    "# skalowanie\n",
    "x, y, h, w = cv2.boundingRect(pts)\n",
    "x, y, h, w\n",
    "\n",
    "# target resolution\n",
    "\n",
    "# 1080 x 1980\n",
    "# z kamery 480 x 640\n",
    "\n",
    "\n",
    "# scaled_x = original_x * (new_resolution_width / old_resolution_width)\n",
    "# scaled_y = original_y * (new_resolution_height / old_resolution_height)\n",
    "\n",
    "scaled_x = int(203 * (1980 / 640))\n",
    "scaled_y = int(203 * (1080 / 480 ))\n",
    "\n",
    "scaled_h = int(265 * (1080 / 480))\n",
    "scaled_w = int(200 * (1980 / 640))"
   ],
   "metadata": {
    "collapsed": false,
    "pycharm": {
     "name": "#%%\n"
    }
   }
  },
  {
   "cell_type": "code",
   "execution_count": null,
   "outputs": [],
   "source": [
    "scaled_x, scaled_y, scaled_h, scaled_w"
   ],
   "metadata": {
    "collapsed": false,
    "pycharm": {
     "name": "#%%\n"
    }
   }
  },
  {
   "cell_type": "code",
   "execution_count": null,
   "outputs": [],
   "source": [
    "video = cv2.VideoCapture(r'ujecie_1_pociete/atak z użyciem przedmiotu/WIN_20221123_10_38_54_Pro._2.mp4')\n",
    "\n",
    "# cap.set(cv2.CAP_PROP_POS_MSEC, 2500)\n",
    "#\n",
    "# # Read the frame\n",
    "# success, frame = cap.read()\n",
    "\n",
    "# cropped = frame[scaled_y:scaled_y+scaled_h, scaled_x :scaled_x +scaled_w]\n",
    "\n",
    "# Create a mask\n",
    "# mask = np.zeros(frame.shape[:2], np.uint8)\n",
    "# mask[scaled_y:scaled_y+scaled_h, scaled_x:scaled_x+scaled_w] = 255\n",
    "#\n",
    "# # Multiply the mask with the original image\n",
    "# result = cv2.bitwise_and(frame, frame, mask=mask)\n",
    "\n",
    "# resized = cv2.resize(cropped, (64, 64))\n",
    "\n",
    "# Display the result\n",
    "# cv2.imshow(\"Result\", cropped)\n",
    "# cv2.waitKey(0)\n",
    "# cv2.destroyAllWindows()\n",
    "\n",
    "# # Display the result\n",
    "# cv2.imshow(\"Result\", frame)\n",
    "# cv2.waitKey(0)\n",
    "# cv2.destroyAllWindows()\n",
    "\n",
    "# Release the video\n",
    "#cap.release()"
   ],
   "metadata": {
    "collapsed": false,
    "pycharm": {
     "name": "#%%\n"
    }
   }
  },
  {
   "cell_type": "code",
   "execution_count": null,
   "outputs": [],
   "source": [
    "start_time = 1\n",
    "t_sec = 1\n",
    "fps = video.get(cv2.CAP_PROP_FPS)\n",
    "\n",
    "# Calculate the desired start and end frame numbers\n",
    "start_frame_number = int(start_time * fps)\n",
    "end_frame_number = start_frame_number + int(fps * t_sec)\n",
    "\n",
    "# Go to the start frame\n",
    "video.set(cv2.CAP_PROP_POS_FRAMES, start_frame_number)\n",
    "\n",
    "# Extract the frames\n",
    "frames = []\n",
    "while True:\n",
    "    ret, frame = video.read()\n",
    "    if not ret:\n",
    "        break\n",
    "    if video.get(cv2.CAP_PROP_POS_FRAMES) >= end_frame_number:\n",
    "        break\n",
    "    frames.append(frame)\n",
    "\n",
    "# Release the video\n",
    "\n",
    "video.release()"
   ],
   "metadata": {
    "collapsed": false,
    "pycharm": {
     "name": "#%%\n"
    }
   }
  },
  {
   "cell_type": "code",
   "execution_count": null,
   "outputs": [],
   "source": [
    "frames = [frame[scaled_y:scaled_y+scaled_h, scaled_x:scaled_h+scaled_w] for frame in frames]"
   ],
   "metadata": {
    "collapsed": false,
    "pycharm": {
     "name": "#%%\n"
    }
   }
  },
  {
   "cell_type": "code",
   "execution_count": null,
   "outputs": [],
   "source": [
    "# # Display the result\n",
    "cv2.imshow(\"Result\", frames[10])\n",
    "cv2.waitKey(0)\n",
    "cv2.destroyAllWindows()"
   ],
   "metadata": {
    "collapsed": false,
    "pycharm": {
     "name": "#%%\n"
    }
   }
  },
  {
   "cell_type": "markdown",
   "source": [
    "Test"
   ],
   "metadata": {
    "collapsed": false,
    "pycharm": {
     "name": "#%% md\n"
    }
   }
  },
  {
   "cell_type": "code",
   "execution_count": null,
   "outputs": [],
   "source": [
    "from aggregation import Aggregator\n",
    "aggregator = Aggregator(0)\n",
    "\n",
    "x_64_64_kz, y_64_64_kz, x_64_64_mp4, y_64_64_mp4,\\\n",
    "    x_32_32_kz, y_32_32_kz, x_32_32_mp4, y_32_32_mp4 = aggregator.find_and_rescale(r\"C:\\Users\\damig\\MN\\Projekt_alternatywny\\ujecie_1_kz_pociete\\atak z użyciem przedmiotu\\atak-2022_11_23_10_38_55_2.npy\",\n",
    "                            r\"ujecie_1_pociete/atak z użyciem przedmiotu/WIN_20221123_10_38_54_Pro._2.mp4\",\n",
    "                            1,\n",
    "                            1)"
   ],
   "metadata": {
    "collapsed": false,
    "pycharm": {
     "name": "#%%\n"
    }
   }
  },
  {
   "cell_type": "code",
   "execution_count": null,
   "outputs": [],
   "source": [
    "x_32_32_kz.shape"
   ],
   "metadata": {
    "collapsed": false,
    "pycharm": {
     "name": "#%%\n"
    }
   }
  },
  {
   "cell_type": "code",
   "execution_count": 1,
   "outputs": [
    {
     "name": "stdout",
     "output_type": "stream",
     "text": [
      "Agregacja dla pliku ujecie_1_kz_pociete/atak z użyciem przedmiotu/atak-2022_11_23_10_46_04_5.npy i ujecie_1_pociete/atak z użyciem przedmiotu/WIN_20221123_10_46_03_Pro._5.mp4.\n",
      "Jeszcze 5 plików.. \n",
      "..Do agregacji 4 klatki\n",
      "..Agregacja 0 klatki\n",
      "..Processing 0 klatki\n",
      "..Blobbing 0 klatki\n",
      "..Skalowanie koordynat 0 klatki\n",
      "..Wycinanie klatek z mp4 dla 0 klatki\n",
      "..Resize 0 klatki\n",
      "..Agregacja 1 klatki\n",
      "..Processing 1 klatki\n",
      "..Blobbing 1 klatki\n",
      "..Skalowanie koordynat 1 klatki\n",
      "..Wycinanie klatek z mp4 dla 1 klatki\n",
      "..Resize 1 klatki\n",
      "..Agregacja 2 klatki\n",
      "..Processing 2 klatki\n",
      "..Blobbing 2 klatki\n",
      "..Skalowanie koordynat 2 klatki\n",
      "..Wycinanie klatek z mp4 dla 2 klatki\n",
      "..Resize 2 klatki\n",
      "..Agregacja 3 klatki\n",
      "..Processing 3 klatki\n",
      "..Blobbing 3 klatki\n",
      "..Skalowanie koordynat 3 klatki\n",
      "..Wycinanie klatek z mp4 dla 3 klatki\n",
      "..Resize 3 klatki\n",
      "Agregacja dla pliku ujecie_1_kz_pociete/atak z użyciem przedmiotu/atak-2022_11_23_10_46_04_6.npy i ujecie_1_pociete/atak z użyciem przedmiotu/WIN_20221123_10_46_03_Pro._6.mp4.\n",
      "Jeszcze 4 plików.. \n",
      "..Do agregacji 4 klatki\n",
      "..Agregacja 0 klatki\n",
      "..Processing 0 klatki\n",
      "..Blobbing 0 klatki\n",
      "..Skalowanie koordynat 0 klatki\n",
      "..Wycinanie klatek z mp4 dla 0 klatki\n",
      "..Resize 0 klatki\n",
      "..Agregacja 1 klatki\n",
      "..Processing 1 klatki\n",
      "..Blobbing 1 klatki\n",
      "..Skalowanie koordynat 1 klatki\n",
      "..Wycinanie klatek z mp4 dla 1 klatki\n",
      "..Resize 1 klatki\n",
      "..Agregacja 2 klatki\n",
      "..Processing 2 klatki\n",
      "..Blobbing 2 klatki\n",
      "..Skalowanie koordynat 2 klatki\n",
      "..Wycinanie klatek z mp4 dla 2 klatki\n",
      "..Resize 2 klatki\n",
      "..Agregacja 3 klatki\n",
      "..Processing 3 klatki\n",
      "..Blobbing 3 klatki\n",
      "..Skalowanie koordynat 3 klatki\n",
      "..Wycinanie klatek z mp4 dla 3 klatki\n",
      "..Resize 3 klatki\n",
      "Agregacja dla pliku ujecie_1_kz_pociete/atak z użyciem przedmiotu/atak-2022_11_23_10_46_04_7.npy i ujecie_1_pociete/atak z użyciem przedmiotu/WIN_20221123_10_46_03_Pro._7.mp4.\n",
      "Jeszcze 3 plików.. \n",
      "..Do agregacji 4 klatki\n",
      "..Agregacja 0 klatki\n",
      "..Processing 0 klatki\n",
      "..Blobbing 0 klatki\n",
      "..Skalowanie koordynat 0 klatki\n",
      "..Wycinanie klatek z mp4 dla 0 klatki\n",
      "..Resize 0 klatki\n",
      "..Agregacja 1 klatki\n",
      "..Processing 1 klatki\n",
      "..Blobbing 1 klatki\n",
      "..Skalowanie koordynat 1 klatki\n",
      "..Wycinanie klatek z mp4 dla 1 klatki\n",
      "..Resize 1 klatki\n",
      "..Agregacja 2 klatki\n",
      "..Processing 2 klatki\n",
      "..Blobbing 2 klatki\n",
      "..Skalowanie koordynat 2 klatki\n",
      "..Wycinanie klatek z mp4 dla 2 klatki\n",
      "..Resize 2 klatki\n",
      "..Agregacja 3 klatki\n",
      "..Processing 3 klatki\n",
      "..Blobbing 3 klatki\n",
      "..Skalowanie koordynat 3 klatki\n",
      "..Wycinanie klatek z mp4 dla 3 klatki\n",
      "..Resize 3 klatki\n",
      "Agregacja dla pliku ujecie_1_kz_pociete/atak z użyciem przedmiotu/atak-2022_11_23_10_46_04_8.npy i ujecie_1_pociete/atak z użyciem przedmiotu/WIN_20221123_10_46_03_Pro._8.mp4.\n",
      "Jeszcze 2 plików.. \n",
      "..Do agregacji 4 klatki\n",
      "..Agregacja 0 klatki\n",
      "..Processing 0 klatki\n",
      "..Blobbing 0 klatki\n",
      "..Skalowanie koordynat 0 klatki\n",
      "..Wycinanie klatek z mp4 dla 0 klatki\n",
      "..Resize 0 klatki\n",
      "..Agregacja 1 klatki\n",
      "..Processing 1 klatki\n",
      "..Blobbing 1 klatki\n",
      "..Skalowanie koordynat 1 klatki\n",
      "..Wycinanie klatek z mp4 dla 1 klatki\n",
      "..Resize 1 klatki\n",
      "..Agregacja 2 klatki\n",
      "..Processing 2 klatki\n",
      "..Blobbing 2 klatki\n",
      "..Skalowanie koordynat 2 klatki\n",
      "..Wycinanie klatek z mp4 dla 2 klatki\n",
      "..Resize 2 klatki\n",
      "..Agregacja 3 klatki\n",
      "..Processing 3 klatki\n",
      "..Blobbing 3 klatki\n",
      "..Skalowanie koordynat 3 klatki\n",
      "..Wycinanie klatek z mp4 dla 3 klatki\n",
      "..Resize 3 klatki\n",
      "Agregacja dla pliku ujecie_1_kz_pociete/atak z użyciem przedmiotu/atak-2022_11_23_10_46_04_9.npy i ujecie_1_pociete/atak z użyciem przedmiotu/WIN_20221123_10_46_03_Pro._9.mp4.\n",
      "Jeszcze 1 plików.. \n",
      "..Do agregacji 4 klatki\n",
      "..Agregacja 0 klatki\n",
      "..Processing 0 klatki\n",
      "..Blobbing 0 klatki\n",
      "..Skalowanie koordynat 0 klatki\n",
      "..Wycinanie klatek z mp4 dla 0 klatki\n",
      "..Resize 0 klatki\n",
      "..Agregacja 1 klatki\n",
      "..Processing 1 klatki\n",
      "..Blobbing 1 klatki\n",
      "..Skalowanie koordynat 1 klatki\n",
      "..Wycinanie klatek z mp4 dla 1 klatki\n",
      "..Resize 1 klatki\n",
      "..Agregacja 2 klatki\n",
      "..Processing 2 klatki\n",
      "..Blobbing 2 klatki\n",
      "..Skalowanie koordynat 2 klatki\n",
      "..Wycinanie klatek z mp4 dla 2 klatki\n",
      "..Resize 2 klatki\n",
      "..Agregacja 3 klatki\n",
      "..Processing 3 klatki\n",
      "..Blobbing 3 klatki\n",
      "..Skalowanie koordynat 3 klatki\n",
      "..Wycinanie klatek z mp4 dla 3 klatki\n",
      "..Resize 3 klatki\n",
      "Agregacja dla pliku ujecie_1_kz_pociete/atak z użyciem przedmiotu/atak-2022_11_23_10_47_55_0.npy i ujecie_1_pociete/atak z użyciem przedmiotu/WIN_20221123_10_47_54_Pro._0.mp4.\n",
      "Jeszcze 0 plików.. \n",
      "..Do agregacji 4 klatki\n",
      "..Agregacja 0 klatki\n",
      "..Processing 0 klatki\n",
      "..Blobbing 0 klatki\n",
      "..Skalowanie koordynat 0 klatki\n",
      "..Wycinanie klatek z mp4 dla 0 klatki\n",
      "..Resize 0 klatki\n",
      "..Agregacja 1 klatki\n",
      "..Processing 1 klatki\n",
      "..Blobbing 1 klatki\n",
      "..Skalowanie koordynat 1 klatki\n",
      "..Wycinanie klatek z mp4 dla 1 klatki\n",
      "..Resize 1 klatki\n",
      "..Agregacja 2 klatki\n",
      "..Processing 2 klatki\n",
      "..Blobbing 2 klatki\n",
      "..Skalowanie koordynat 2 klatki\n",
      "..Wycinanie klatek z mp4 dla 2 klatki\n",
      "..Resize 2 klatki\n",
      "..Agregacja 3 klatki\n",
      "..Processing 3 klatki\n",
      "..Blobbing 3 klatki\n",
      "..Skalowanie koordynat 3 klatki\n",
      "..Wycinanie klatek z mp4 dla 3 klatki\n",
      "..Resize 3 klatki\n"
     ]
    }
   ],
   "source": [
    "from aggregation import Aggregator, search_directory\n",
    "\n",
    "aggregator = Aggregator(0)\n",
    "\n",
    "x_64_64_kz_data, y_64_64_kz_data, x_32_32_kz_data, y_32_32_kz_data, x_64_64_mp4_data, y_64_64_mp4_data,x_32_32_mp4_data, y_32_32_mp4_data = search_directory(r'ujecie_1_kz_pociete/atak z użyciem przedmiotu/',\n",
    "                                                     r'ujecie_1_pociete/atak z użyciem przedmiotu/', 65, 71, aggregator)"
   ],
   "metadata": {
    "collapsed": false,
    "pycharm": {
     "name": "#%%\n"
    }
   }
  },
  {
   "cell_type": "code",
   "execution_count": 5,
   "outputs": [
    {
     "data": {
      "text/plain": "(24,)"
     },
     "execution_count": 5,
     "metadata": {},
     "output_type": "execute_result"
    }
   ],
   "source": [
    "y_64_64_kz_data.shape"
   ],
   "metadata": {
    "collapsed": false,
    "pycharm": {
     "name": "#%%\n"
    }
   }
  },
  {
   "cell_type": "code",
   "execution_count": null,
   "outputs": [],
   "source": [
    "import matplotlib.pyplot as plt\n",
    "\n",
    "plt.imshow(x_64_64_mp4_data[-1])"
   ],
   "metadata": {
    "collapsed": false,
    "pycharm": {
     "name": "#%%\n"
    }
   }
  },
  {
   "cell_type": "code",
   "execution_count": null,
   "outputs": [],
   "source": [
    "y_32_32_kz_data.shape"
   ],
   "metadata": {
    "collapsed": false,
    "pycharm": {
     "name": "#%%\n"
    }
   }
  },
  {
   "cell_type": "code",
   "execution_count": null,
   "outputs": [],
   "source": [],
   "metadata": {
    "collapsed": false,
    "pycharm": {
     "name": "#%%\n"
    }
   }
  }
 ],
 "metadata": {
  "kernelspec": {
   "display_name": "Python 3",
   "language": "python",
   "name": "python3"
  },
  "language_info": {
   "codemirror_mode": {
    "name": "ipython",
    "version": 2
   },
   "file_extension": ".py",
   "mimetype": "text/x-python",
   "name": "python",
   "nbconvert_exporter": "python",
   "pygments_lexer": "ipython2",
   "version": "2.7.6"
  }
 },
 "nbformat": 4,
 "nbformat_minor": 0
}